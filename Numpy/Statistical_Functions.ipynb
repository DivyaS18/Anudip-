{
 "cells": [
  {
   "cell_type": "code",
   "execution_count": 7,
   "id": "2ba47277-ee7c-46f7-8e7d-1a9e93625e40",
   "metadata": {},
   "outputs": [
    {
     "name": "stdout",
     "output_type": "stream",
     "text": [
      "[3 4 7]\n",
      "[1 5 6]\n",
      "[2 8 9]\n"
     ]
    }
   ],
   "source": [
    "import numpy as np\n",
    "arr=np.array([3,4,7,1,5,6,2,8,9])         #if elements are less it will not adjust accordingly and will throw an error"
   ]
  },
  {
   "cell_type": "code",
   "execution_count": 9,
   "id": "b6006bb8-97ec-4ea5-b6c5-0a19b8df9689",
   "metadata": {},
   "outputs": [
    {
     "name": "stdout",
     "output_type": "stream",
     "text": [
      "Sorted array in ascending order [1 2 3 4 5 6 7 8 9]\n",
      "Sorted array in descending order [9 8 7 6 5 4 3 2 1]\n"
     ]
    }
   ],
   "source": [
    "sorted_arr=np.sort(arr)\n",
    "print(\"Sorted array in ascending order\",sorted_arr)\n",
    "sorted_arr_desc=np.sort(arr)[::-1]\n",
    "print(\"Sorted array in descending order\",sorted_arr_desc)"
   ]
  },
  {
   "cell_type": "code",
   "execution_count": 10,
   "id": "8e607a30-02f5-4507-aa59-0bc976699c56",
   "metadata": {},
   "outputs": [
    {
     "name": "stdout",
     "output_type": "stream",
     "text": [
      "Sorted matrix ascending along rows: [[1 2 3]\n",
      " [4 5 6]]\n"
     ]
    }
   ],
   "source": [
    "matrix=np.array([[3,1,2],[6,5,4]])\n",
    "sorted_matrix=np.sort(matrix,axis=1)\n",
    "print(\"Sorted matrix ascending along rows:\",sorted_matrix)"
   ]
  },
  {
   "cell_type": "code",
   "execution_count": 12,
   "id": "dd675b84-2ad5-4525-a33b-fb3c4be6ce7a",
   "metadata": {},
   "outputs": [
    {
     "name": "stdout",
     "output_type": "stream",
     "text": [
      "[[1 2 5 6]\n",
      " [3 4 7 8]]\n"
     ]
    }
   ],
   "source": [
    "#Numpy Join\n",
    "arr1=np.array([[1,2],[3,4]])\n",
    "arr2=np.array([[5,6],[7,8]])\n",
    "result=np.concatenate((arr1,arr2),axis=1)        # join arrays along a specified axis.\n",
    "print(result)"
   ]
  },
  {
   "cell_type": "code",
   "execution_count": 17,
   "id": "4a7f7619-7e0e-4039-a920-02cffc92b6a0",
   "metadata": {},
   "outputs": [
    {
     "name": "stdout",
     "output_type": "stream",
     "text": [
      "[[1 2]\n",
      " [3 4]\n",
      " [5 6]\n",
      " [7 8]]\n"
     ]
    }
   ],
   "source": [
    "result=np.concatenate((arr1,arr2),axis=0)\n",
    "print(result)"
   ]
  },
  {
   "cell_type": "code",
   "execution_count": 18,
   "id": "b51d86a0-462c-4de4-b426-b41d6c1ea8b3",
   "metadata": {},
   "outputs": [
    {
     "name": "stdout",
     "output_type": "stream",
     "text": [
      "[[1 2 3]\n",
      " [5 6 7]]\n"
     ]
    }
   ],
   "source": [
    "#Vertical Stacking\n",
    "arr1=np.array([1,2,3])\n",
    "arr2=np.array([5,6,7])\n",
    "result=np.vstack((arr1,arr2))\n",
    "print(result)"
   ]
  },
  {
   "cell_type": "code",
   "execution_count": 19,
   "id": "783d0e25-a2f8-4213-9cd1-66c008a2da49",
   "metadata": {},
   "outputs": [
    {
     "name": "stdout",
     "output_type": "stream",
     "text": [
      "[1 2 3 5 6 7]\n"
     ]
    }
   ],
   "source": [
    "#Horizontal Stacking\n",
    "arr1=np.array([1,2,3])\n",
    "arr2=np.array([5,6,7])\n",
    "result=np.hstack((arr1,arr2))\n",
    "print(result)"
   ]
  },
  {
   "cell_type": "code",
   "execution_count": 20,
   "id": "8702d880-9e11-4206-80cf-41270f98579d",
   "metadata": {},
   "outputs": [
    {
     "name": "stdout",
     "output_type": "stream",
     "text": [
      "Filtered Array: [3 4 5]\n"
     ]
    }
   ],
   "source": [
    "arr = np.array([1, 2, 3, 4, 5, 6])\n",
    "mask = (arr > 2) & (arr < 6)\n",
    "filtered_array = arr[mask]\n",
    "print(\"Filtered Array:\", filtered_array)\n"
   ]
  },
  {
   "cell_type": "code",
   "execution_count": 23,
   "id": "084c531b-0ac6-4504-85ad-dd92dfbfcf38",
   "metadata": {},
   "outputs": [
    {
     "name": "stdout",
     "output_type": "stream",
     "text": [
      "Production B Variance 9.0\n"
     ]
    }
   ],
   "source": [
    "prd_b= np.array([2,8])\n",
    "prdB_var=np.var(prd_b)\n",
    "print('Production B Variance',prdB_var)"
   ]
  },
  {
   "cell_type": "code",
   "execution_count": 25,
   "id": "16b5a768-1f7c-420e-b452-ba66be46b12c",
   "metadata": {},
   "outputs": [
    {
     "name": "stdout",
     "output_type": "stream",
     "text": [
      "Class B Score Average is:  86.0\n",
      "Variance of CLass B is:  114.0\n",
      "Standard Deviation of CLass B is:  10.677078252031311\n"
     ]
    }
   ],
   "source": [
    "# Score of Class B students\n",
    "classB= np.array([70, 80, 85, 95, 100])\n",
    "classB_mean=np.mean(classB)\n",
    "print('Class B Score Average is: ',classB_mean )\n",
    "var=np.var(classB)\n",
    "print(\"Variance of CLass B is: \",var)\n",
    "std=np.std(classB)\n",
    "print(\"Standard Deviation of CLass B is: \",std)"
   ]
  },
  {
   "cell_type": "code",
   "execution_count": 27,
   "id": "246792df-2b81-4993-baed-c94c1cfde2da",
   "metadata": {},
   "outputs": [
    {
     "name": "stdout",
     "output_type": "stream",
     "text": [
      "Median (50th Percentile): 109.0\n",
      "Median (25th Percentile): 95.25\n"
     ]
    }
   ],
   "source": [
    "test_scores = np.array([65, 75, 80, 85, 90, 92, 94, 95, 96, 98, 100, 102, 104, 106, 108,\n",
    "110, 112, 114, 116, 118, 120, 122, 124, 126, 128, 130, 132, 134, 136, 138])\n",
    "median = np.percentile(test_scores, 50)           #median divides the data into two equal halves. It's the middle value when the data is sorted.\n",
    "print(\"Median (50th Percentile):\", median)\n",
    "median = np.percentile(test_scores, 25)\n",
    "print(\"Median (25th Percentile):\", median)"
   ]
  },
  {
   "cell_type": "code",
   "execution_count": 28,
   "id": "317db1cf-c246-42a7-9dbd-cf8ce9a8acf0",
   "metadata": {},
   "outputs": [
    {
     "name": "stdout",
     "output_type": "stream",
     "text": [
      "Original Scores: [85 92 78 88 95 72 89]\n",
      "Loaded Scores: [85 92 78 88 95 72 89]\n"
     ]
    }
   ],
   "source": [
    "#NumPy Input Output(IO)\n",
    "# Sample student scores\n",
    "scores = np.array([85, 92, 78, 88, 95, 72, 89])\n",
    "# Save the scores to a file\n",
    "np.save('student_scores.npy', scores)\n",
    "# Load the scores from the file\n",
    "loaded_scores = np.load('student_scores.npy')\n",
    "print(\"Original Scores:\", scores)\n",
    "print(\"Loaded Scores:\", loaded_scores)"
   ]
  },
  {
   "cell_type": "code",
   "execution_count": 29,
   "id": "330959a1-1f06-4dae-9d79-32d56f331502",
   "metadata": {},
   "outputs": [
    {
     "name": "stdout",
     "output_type": "stream",
     "text": [
      "Original Data:\n",
      " [[1 2 3]\n",
      " [4 5 6]\n",
      " [7 8 9]]\n",
      "Loaded Data:\n",
      " [[1. 2. 3.]\n",
      " [4. 5. 6.]\n",
      " [7. 8. 9.]]\n"
     ]
    }
   ],
   "source": [
    "data = np.array([[1, 2, 3], [4, 5, 6], [7, 8, 9]])\n",
    "# Save the data to a text file\n",
    "np.savetxt('data.txt', data)\n",
    "# Load the data from the text file\n",
    "loaded_data = np.loadtxt('data.txt')\n",
    "print(\"Original Data:\\n\", data)\n",
    "print(\"Loaded Data:\\n\", loaded_data)"
   ]
  }
 ],
 "metadata": {
  "kernelspec": {
   "display_name": "Python 3 (ipykernel)",
   "language": "python",
   "name": "python3"
  },
  "language_info": {
   "codemirror_mode": {
    "name": "ipython",
    "version": 3
   },
   "file_extension": ".py",
   "mimetype": "text/x-python",
   "name": "python",
   "nbconvert_exporter": "python",
   "pygments_lexer": "ipython3",
   "version": "3.12.4"
  }
 },
 "nbformat": 4,
 "nbformat_minor": 5
}
