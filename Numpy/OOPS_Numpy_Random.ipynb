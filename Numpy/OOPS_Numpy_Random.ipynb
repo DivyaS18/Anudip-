{
 "cells": [
  {
   "cell_type": "code",
   "execution_count": 2,
   "id": "3f320fe6-923f-4a4c-aa4c-260e86cd40dd",
   "metadata": {},
   "outputs": [
    {
     "name": "stdout",
     "output_type": "stream",
     "text": [
      "[1 5 6]\n",
      "[[3 0 0]\n",
      " [0 9 0]\n",
      " [0 0 5]]\n"
     ]
    }
   ],
   "source": [
    "import numpy as np\n",
    "\n",
    "c=np.array([[1, 2, 3],[4, 5, 6],[4, 5, 6]])\n",
    "print(np.diag(c))      #finding diagonal elements in the array\n",
    "print(np.diag((3,9,5)))       #inserting elements diagonally\n"
   ]
  },
  {
   "cell_type": "code",
   "execution_count": 5,
   "id": "a88c9dae-04d3-4567-86aa-0b991a479618",
   "metadata": {},
   "outputs": [
    {
     "name": "stdout",
     "output_type": "stream",
     "text": [
      "Generates random 2 numbers between 0 to 10:  [5 8]\n",
      "Generates 4 random numbers:  [0.23080199 0.0131799  0.38595714 0.42536654]\n",
      "Generates 2 rows with 3 random numbers:  [[0.90124379 0.11955781 0.85158678]\n",
      " [0.87189403 0.34093016 0.44513064]]\n",
      "Generates random 12 numbers between 0 to 100:  [76 51 83 13 42  8 43 84 98 82 50 24]\n"
     ]
    }
   ],
   "source": [
    "rand= np.random.randint(0,10,2)\n",
    "print(\"Generates random 2 numbers between 0 to 10: \",rand)\n",
    "\n",
    "rand=np.random.rand(4)    #generates an array of specific shape and fills it with random samples from a uniform distribution over the interval [0,1).\n",
    "print(\"Generates 4 random numbers: \",rand)\n",
    "rand=np.random.rand(2,3)\n",
    "print(\"Generates 2 rows with 3 random numbers: \",rand)\n",
    "\n",
    "arr=np.random.randint(0,100,12)\n",
    "print(\"Generates random 12 numbers between 0 to 100: \",arr)\n"
   ]
  },
  {
   "cell_type": "code",
   "execution_count": 7,
   "id": "c8a483b3-161d-4291-9608-af4498d48634",
   "metadata": {},
   "outputs": [
    {
     "name": "stdout",
     "output_type": "stream",
     "text": [
      "Generates random 12 numbers between 0 to 100:  [17 68 96 45 22 19 77 90 48 14  7 85]\n",
      "Array reshaped to shape(4,3): [[17 68 96]\n",
      " [45 22 19]\n",
      " [77 90 48]\n",
      " [14  7 85]]\n",
      "Array value at index[0][1] is:  68\n",
      "Array value at index[1][0] is:  45\n",
      "Shape of the array is:  (4, 3)\n",
      "Array reshaped: [[17 68 96 45]\n",
      " [22 19 77 90]\n",
      " [48 14  7 85]]\n",
      "Array reshaped: [[17 68 96 45 22 19]\n",
      " [77 90 48 14  7 85]]\n"
     ]
    }
   ],
   "source": [
    "'''this reshape function allows you to change the shape(dimensions) of an array without changing its data. this can be\n",
    "useful when you want to rearrange the way data is organized in an array, such as converting a1D array into a 2D matrix, or\n",
    "changing the size of a multi-dimensional array while maintaining the size'''\n",
    "\n",
    "arr=np.random.randint(0,100,12)\n",
    "print(\"Generates random 12 numbers between 0 to 100: \",arr)\n",
    "arr=arr.reshape(4,3)\n",
    "print(\"Array reshaped to shape(4,3):\",arr)\n",
    "print(\"Array value at index[0][1] is: \",arr[0][1])\n",
    "print(\"Array value at index[1][0] is: \",arr[1][0])\n",
    "print(\"Shape of the array is: \",arr.shape)\n",
    "arr=arr.reshape(-1,4)                #it takes value of row accordingly\n",
    "print(\"Array reshaped:\",arr)         #need to specify 1 dimension atleast\n",
    "arr=arr.reshape(2,-1)                #it takes value of column accordingly\n",
    "print(\"Array reshaped:\",arr)"
   ]
  },
  {
   "cell_type": "code",
   "execution_count": 8,
   "id": "f41f99e7-c04a-4cf7-aa3d-2912e91af403",
   "metadata": {},
   "outputs": [
    {
     "name": "stdout",
     "output_type": "stream",
     "text": [
      "[37 86 87 18 90 69  8 53 33 32 40 26]\n"
     ]
    }
   ],
   "source": [
    "#the list of random numbers will be fixed\n",
    "np.random.seed(145)\n",
    "arr=np.random.randint(0,100,12)\n",
    "print(arr)"
   ]
  },
  {
   "cell_type": "code",
   "execution_count": 24,
   "id": "3cb02686-939a-45ca-9adf-efeade2f7018",
   "metadata": {},
   "outputs": [
    {
     "name": "stdout",
     "output_type": "stream",
     "text": [
      "[[341 365 469 213  87]\n",
      " [276 170 323 119 467]\n",
      " [297 456 442   8 269]\n",
      " [267 450 369 217 285]\n",
      " [271 419  22  55 201]\n",
      " [ 38 461 231 187 269]]\n"
     ]
    }
   ],
   "source": [
    "np.random.seed(111)\n",
    "arr=np.random.randint(1,500,30).reshape(6,5)\n",
    "print(arr)"
   ]
  },
  {
   "cell_type": "code",
   "execution_count": 26,
   "id": "af343675-973b-4a38-8755-038118d969d3",
   "metadata": {},
   "outputs": [
    {
     "name": "stdout",
     "output_type": "stream",
     "text": [
      "[[442   8 269]\n",
      " [369 217 285]\n",
      " [ 22  55 201]\n",
      " [231 187 269]]\n",
      "\n",
      "[[369 217]\n",
      " [ 22  55]]\n"
     ]
    }
   ],
   "source": [
    "print(arr[2:,2:])   #the row and column doesn't have any range so it will print till last\n",
    "print()\n",
    "print(arr[3:5,2:4])   #the row indexes are 3 to 4 and column indexes are 2 to 3"
   ]
  },
  {
   "cell_type": "code",
   "execution_count": 15,
   "id": "0377e9ce-c865-4b0d-ac06-e9e0ecfd8773",
   "metadata": {},
   "outputs": [
    {
     "name": "stdout",
     "output_type": "stream",
     "text": [
      "new slicing [3 4 8 5 6]\n",
      "new array [   1   20    5    9    3    4    8    5    6    2   25    2 2265    3\n",
      "   33]\n",
      "<class 'numpy.ndarray'>\n",
      "<class 'numpy.ndarray'>\n",
      "old slicing [0 0 0 0 0]\n",
      "old array [   1   20    5    9    0    0    0    0    0    2   25    2 2265    3\n",
      "   33]\n"
     ]
    }
   ],
   "source": [
    "ar=np.array([1,20,5,9,3,4,8,5,6,2,25,2,2265,3,33,])\n",
    "slicing=ar[4:9]\n",
    "print(\"new slicing\",slicing)\n",
    "print(\"new array\",ar)\n",
    "print(type(slicing))\n",
    "print(type(ar))\n",
    "slicing[:]=0\n",
    "print(\"old slicing\",slicing)    #the old sliced numbers replaced by 0\n",
    "print(\"old array\",ar)         #the sliced elements replaced are now presented i"
   ]
  },
  {
   "cell_type": "code",
   "execution_count": 21,
   "id": "f40a79e9-cb60-446e-8036-3a4e1df5f661",
   "metadata": {},
   "outputs": [
    {
     "name": "stdout",
     "output_type": "stream",
     "text": [
      "Array in sequence: [ 1  2  3  4  5  6  7  8  9 10 11 12 13 14]\n",
      "Even number array: [ 2  4  6  8 10 12 14]\n",
      "Odd number array: [ 1  3  5  7  9 11 13]\n",
      "Array with numbers greater than 8: [ 9 10 11 12 13 14]\n",
      "Even numbers are replaced with 0: [ 1  0  3  0  5  0  7  0  9  0 11  0 13  0]\n",
      "Adding 2 to every element: [3 4 5 6 7 8 9]\n",
      "Multiplying 2 to every element: [ 2  4  6  8 10 12 14]\n",
      "Power of every element: [ 1  4  9 16 25 36 49]\n"
     ]
    }
   ],
   "source": [
    "#to create numbers in sequence we use arange function\n",
    "ar=np.arange(1,15)\n",
    "print(\"Array in sequence:\",ar)\n",
    "print(\"Even number array:\",ar[ar%2==0])\n",
    "print(\"Odd number array:\",ar[ar%2!=0])\n",
    "print(\"Array with numbers greater than 8:\",ar[ar>8])\n",
    "ar[ar%2==0]=0\n",
    "print(\"Even numbers are replaced with 0:\",ar)\n",
    "\n",
    "arr=np.arange(1,8)\n",
    "print(\"Adding 2 to every element:\",arr+2)\n",
    "print(\"Multiplying 2 to every element:\",arr*2)\n",
    "print(\"Power of every element:\",arr**2)"
   ]
  },
  {
   "cell_type": "code",
   "execution_count": 29,
   "id": "15d71780-bb4f-460b-b111-6359bd9290c2",
   "metadata": {},
   "outputs": [
    {
     "name": "stdout",
     "output_type": "stream",
     "text": [
      "Minimum number in array: 2\n",
      "Maximum number in array: 30\n",
      "Returns the index of the minimum number: 5\n",
      "Returns the index of the maximum number: 2\n",
      "Square root value of every element: [3.16227766 4.47213595 5.47722558 5.         2.44948974 1.41421356]\n",
      "Sin value: [-0.54402111  0.91294525 -0.98803162 -0.13235175 -0.2794155   0.90929743]\n",
      "Cos value: [-0.83907153  0.40808206  0.15425145  0.99120281  0.96017029 -0.41614684]\n"
     ]
    }
   ],
   "source": [
    "arr=np.array([10,20,30,25,6,2])\n",
    "print(\"Minimum number in array:\",np.min(arr))\n",
    "print(\"Maximum number in array:\",np.max(arr))\n",
    "print(\"Returns the index of the minimum number:\",np.argmin(arr))\n",
    "print(\"Returns the index of the maximum number:\",np.argmax(arr))\n",
    "print(\"Square root value of every element:\",np.sqrt(arr))\n",
    "print(\"Sin value:\",np.sin(arr))\n",
    "print(\"Cos value:\",np.cos(arr))"
   ]
  },
  {
   "cell_type": "code",
   "execution_count": 42,
   "id": "edd9f8e7-c228-4eb6-a665-ab42ea6bf3cc",
   "metadata": {},
   "outputs": [
    {
     "name": "stdout",
     "output_type": "stream",
     "text": [
      "Array of size(3,3): [[16 11 13]\n",
      " [17 13 16]\n",
      " [ 3 16 11]]\n",
      "Sum of elements of array: 116\n",
      "Adding numbers one by one: [ 16  27  40  57  70  86  89 105 116]\n",
      "Finding minimum number from array: 3\n",
      "Finding maximum number from array: 17\n",
      "Computing the sum of elements along the columns of the matrix:  [36 40 40]\n",
      "Computing the minimum value along the columns of the matrix: [ 3 11 11]\n",
      "Computing the maximum value along the columns of the matrix: [17 16 16]\n",
      "Computing the cumulative sum along the columns: [[16 11 13]\n",
      " [33 24 29]\n",
      " [36 40 40]]\n"
     ]
    }
   ],
   "source": [
    "np.random.seed(122)\n",
    "mat=np.random.randint(1,21,9).reshape(3,3)\n",
    "print(\"Array of size(3,3):\",mat)\n",
    "print(\"Sum of elements of array:\",np.sum(mat))\n",
    "print(\"Adding numbers one by one:\",np.cumsum(mat))\n",
    "print(\"Finding minimum number from array:\",np.min(mat))\n",
    "print(\"Finding maximum number from array:\",np.max(mat))\n",
    "print(\"Computing the sum of elements along the columns of the matrix: \",np.sum(mat,axis=0))\n",
    "print(\"Computing the minimum value along the columns of the matrix:\",np.min(mat,axis=0))\n",
    "print(\"Computing the maximum value along the columns of the matrix:\",np.max(mat,axis=0))\n",
    "print(\"Computing the cumulative sum along the columns:\",np.cumsum(mat,axis=0))"
   ]
  },
  {
   "cell_type": "code",
   "execution_count": 43,
   "id": "adaa47eb-b18e-4669-a6f6-90c861f3f8d9",
   "metadata": {},
   "outputs": [
    {
     "name": "stdout",
     "output_type": "stream",
     "text": [
      "Matrix: [16 11 13 17 13 16  3 16 11 10]\n",
      "Randomly shuffled: [13 16 16 11 16 10 11 13 17  3]\n",
      "Finding unique elements:  (array([ 3, 10, 11, 13, 16, 17], dtype=int32), array([9, 5, 3, 0, 1, 8]), array([1, 1, 2, 2, 3, 1]))\n",
      "Count of unique elements:  6\n"
     ]
    }
   ],
   "source": [
    "np.random.seed(122)\n",
    "mat=np.random.randint(1,21,10)\n",
    "print(\"Matrix:\",mat)\n",
    "np.random.shuffle(mat)\n",
    "print(\"Randomly shuffled:\",mat)\n",
    "print(\"Finding unique elements: \",np.unique(mat,return_index=True, return_counts=True))\n",
    "print(\"Count of unique elements: \",np.unique(mat).size)"
   ]
  },
  {
   "cell_type": "code",
   "execution_count": null,
   "id": "1cbaea4e-77a3-4f39-84b1-f51d687c166a",
   "metadata": {},
   "outputs": [],
   "source": []
  }
 ],
 "metadata": {
  "kernelspec": {
   "display_name": "Python 3 (ipykernel)",
   "language": "python",
   "name": "python3"
  },
  "language_info": {
   "codemirror_mode": {
    "name": "ipython",
    "version": 3
   },
   "file_extension": ".py",
   "mimetype": "text/x-python",
   "name": "python",
   "nbconvert_exporter": "python",
   "pygments_lexer": "ipython3",
   "version": "3.12.4"
  }
 },
 "nbformat": 4,
 "nbformat_minor": 5
}
