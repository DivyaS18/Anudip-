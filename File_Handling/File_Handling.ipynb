{
 "cells": [
  {
   "cell_type": "code",
   "execution_count": 1,
   "id": "1d708533-6026-43b0-9445-ba7ca6c1e4bc",
   "metadata": {},
   "outputs": [
    {
     "ename": "FileNotFoundError",
     "evalue": "[Errno 2] No such file or directory: 'anudip.txt'",
     "output_type": "error",
     "traceback": [
      "\u001b[1;31m---------------------------------------------------------------------------\u001b[0m",
      "\u001b[1;31mFileNotFoundError\u001b[0m                         Traceback (most recent call last)",
      "Cell \u001b[1;32mIn[1], line 2\u001b[0m\n\u001b[0;32m      1\u001b[0m \u001b[38;5;66;03m#text file \u001b[39;00m\n\u001b[1;32m----> 2\u001b[0m file\u001b[38;5;241m=\u001b[39m\u001b[38;5;28;43mopen\u001b[39;49m\u001b[43m(\u001b[49m\u001b[38;5;124;43m\"\u001b[39;49m\u001b[38;5;124;43manudip.txt\u001b[39;49m\u001b[38;5;124;43m\"\u001b[39;49m\u001b[43m)\u001b[49m\n",
      "File \u001b[1;32m~\\AppData\\Local\\Programs\\Python\\Python312\\Lib\\site-packages\\IPython\\core\\interactiveshell.py:324\u001b[0m, in \u001b[0;36m_modified_open\u001b[1;34m(file, *args, **kwargs)\u001b[0m\n\u001b[0;32m    317\u001b[0m \u001b[38;5;28;01mif\u001b[39;00m file \u001b[38;5;129;01min\u001b[39;00m {\u001b[38;5;241m0\u001b[39m, \u001b[38;5;241m1\u001b[39m, \u001b[38;5;241m2\u001b[39m}:\n\u001b[0;32m    318\u001b[0m     \u001b[38;5;28;01mraise\u001b[39;00m \u001b[38;5;167;01mValueError\u001b[39;00m(\n\u001b[0;32m    319\u001b[0m         \u001b[38;5;124mf\u001b[39m\u001b[38;5;124m\"\u001b[39m\u001b[38;5;124mIPython won\u001b[39m\u001b[38;5;124m'\u001b[39m\u001b[38;5;124mt let you open fd=\u001b[39m\u001b[38;5;132;01m{\u001b[39;00mfile\u001b[38;5;132;01m}\u001b[39;00m\u001b[38;5;124m by default \u001b[39m\u001b[38;5;124m\"\u001b[39m\n\u001b[0;32m    320\u001b[0m         \u001b[38;5;124m\"\u001b[39m\u001b[38;5;124mas it is likely to crash IPython. If you know what you are doing, \u001b[39m\u001b[38;5;124m\"\u001b[39m\n\u001b[0;32m    321\u001b[0m         \u001b[38;5;124m\"\u001b[39m\u001b[38;5;124myou can use builtins\u001b[39m\u001b[38;5;124m'\u001b[39m\u001b[38;5;124m open.\u001b[39m\u001b[38;5;124m\"\u001b[39m\n\u001b[0;32m    322\u001b[0m     )\n\u001b[1;32m--> 324\u001b[0m \u001b[38;5;28;01mreturn\u001b[39;00m \u001b[43mio_open\u001b[49m\u001b[43m(\u001b[49m\u001b[43mfile\u001b[49m\u001b[43m,\u001b[49m\u001b[43m \u001b[49m\u001b[38;5;241;43m*\u001b[39;49m\u001b[43margs\u001b[49m\u001b[43m,\u001b[49m\u001b[43m \u001b[49m\u001b[38;5;241;43m*\u001b[39;49m\u001b[38;5;241;43m*\u001b[39;49m\u001b[43mkwargs\u001b[49m\u001b[43m)\u001b[49m\n",
      "\u001b[1;31mFileNotFoundError\u001b[0m: [Errno 2] No such file or directory: 'anudip.txt'"
     ]
    }
   ],
   "source": [
    "#text file \n",
    "file=open(\"anudip.txt\")"
   ]
  },
  {
   "cell_type": "code",
   "execution_count": 4,
   "id": "104e9172-5858-4a6a-8bd1-1d39b28259e3",
   "metadata": {},
   "outputs": [],
   "source": [
    "#file=open(\"anudip.txt\",'w')\n",
    "file=open(\"anudip.txt\",'w')"
   ]
  },
  {
   "cell_type": "code",
   "execution_count": 3,
   "id": "3a4c2b4e-1a22-4558-8939-4b043d1935b1",
   "metadata": {},
   "outputs": [
    {
     "name": "stdout",
     "output_type": "stream",
     "text": [
      "data inserted succesfuly \n"
     ]
    }
   ],
   "source": [
    "file.write(\"welcome to anudip class \")\n",
    "file.close()\n",
    "print(\"data inserted succesfuly \")"
   ]
  },
  {
   "cell_type": "code",
   "execution_count": 6,
   "id": "c615a2b8-1888-4de9-ab48-c5ec07cd6e54",
   "metadata": {},
   "outputs": [
    {
     "name": "stdout",
     "output_type": "stream",
     "text": [
      "\n"
     ]
    }
   ],
   "source": [
    "file=open(\"anudip.txt\",'r')\n",
    "data=file.read(5)\n",
    "print(data)\n",
    "file.close()"
   ]
  },
  {
   "cell_type": "code",
   "execution_count": 7,
   "id": "04fe9355-4294-48d8-8ca8-edd2d2bbca7d",
   "metadata": {},
   "outputs": [
    {
     "name": "stdout",
     "output_type": "stream",
     "text": [
      "0\n",
      "\n",
      "0\n"
     ]
    }
   ],
   "source": [
    "file=open(\"anudip.txt\",'r')\n",
    "print(file.tell())\n",
    "data=file.read(5)\n",
    "print(data)\n",
    "print(file.tell())\n",
    "file.close()"
   ]
  },
  {
   "cell_type": "code",
   "execution_count": 8,
   "id": "6b7630ed-9223-47c8-8ba0-30bf28a09684",
   "metadata": {},
   "outputs": [
    {
     "name": "stdout",
     "output_type": "stream",
     "text": [
      "0\n",
      "\n",
      "12\n"
     ]
    }
   ],
   "source": [
    "file=open(\"anudip.txt\",'r')\n",
    "print(file.tell())\n",
    "file.seek(12)\n",
    "data=file.read(5)\n",
    "print(data)\n",
    "print(file.tell())\n",
    "file.close()"
   ]
  },
  {
   "cell_type": "code",
   "execution_count": 10,
   "id": "55b70313-5e63-4481-a8fb-a6def4436c4b",
   "metadata": {},
   "outputs": [],
   "source": [
    "# binary file \n",
    "#it stores data structure \n",
    "# pickle module is used to r/w from binary file \n",
    "# stores data in same format in the memory \n",
    "# binary files are faster to read/write data than text file. it is not readable by user \n",
    "\n",
    "# here are 2 function  \n",
    "# pickle.dump(file handle , data ):- writes data structure into the file \n",
    "# pickle .load(file handle ):- reads data structure from the file \n",
    "import pickle \n",
    "f=open(\"rahul.dat\",'wb')\n",
    "li=[1,2,3,4,5]\n",
    "pickle.dump(li,f)\n",
    "f.close()"
   ]
  },
  {
   "cell_type": "code",
   "execution_count": 11,
   "id": "a9b4783f-06c8-460e-8540-c67abb41d8d3",
   "metadata": {},
   "outputs": [],
   "source": [
    "# csv file \n",
    "# comma separated value file \n",
    "# each value in a line is separated by delimiter (',')\n",
    "# csv is used to store tabular data, such as a spreadsheet or database\n",
    "# csv file uses comma as delimiter but python can r/w file with any types of delimiter \n",
    "# csv file can be imported to and exported from program that store data in tables , eg - ms excel \n",
    "import csv \n",
    "f=open(\"varsha.csv\",'a',newline=\"\")\n",
    "wo=csv.writer(f)\n",
    "data=[[\"a\",\"b\",\"c\",\"d\"],[12,34,56,78,45],[34,29,74,37]]\n",
    "wo.writerow(data)\n",
    "f.close()"
   ]
  },
  {
   "cell_type": "code",
   "execution_count": 12,
   "id": "29310e0f-05e4-463c-8728-74480817d10e",
   "metadata": {},
   "outputs": [
    {
     "name": "stdout",
     "output_type": "stream",
     "text": [
      "[\"['a', 'b', 'c', 'd']\", '[12, 34, 56, 78, 45]', '[34, 29, 74, 37]']\n"
     ]
    }
   ],
   "source": [
    "import csv \n",
    "f=open(\"varsha.csv\",'r')\n",
    "re=csv.reader(f)\n",
    "li=list(re)\n",
    "for row in li :\n",
    "    print(row)"
   ]
  },
  {
   "cell_type": "code",
   "execution_count": null,
   "id": "c16dd6c2-3d3d-40a8-a2ea-5c4bce680297",
   "metadata": {},
   "outputs": [],
   "source": []
  }
 ],
 "metadata": {
  "kernelspec": {
   "display_name": "Python 3 (ipykernel)",
   "language": "python",
   "name": "python3"
  },
  "language_info": {
   "codemirror_mode": {
    "name": "ipython",
    "version": 3
   },
   "file_extension": ".py",
   "mimetype": "text/x-python",
   "name": "python",
   "nbconvert_exporter": "python",
   "pygments_lexer": "ipython3",
   "version": "3.12.4"
  }
 },
 "nbformat": 4,
 "nbformat_minor": 5
}
