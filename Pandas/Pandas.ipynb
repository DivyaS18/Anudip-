{
 "cells": [
  {
   "cell_type": "code",
   "execution_count": 48,
   "id": "974523ee-cfd9-4082-bd48-33436156f62f",
   "metadata": {},
   "outputs": [
    {
     "name": "stdout",
     "output_type": "stream",
     "text": [
      "January      12000\n",
      "February     13500\n",
      "March        14200\n",
      "April        12800\n",
      "May          14000\n",
      "June         15500\n",
      "July         16200\n",
      "August       15800\n",
      "September    16500\n",
      "October      17800\n",
      "November     18500\n",
      "December     17200\n",
      "Name: Monthly Sales (USD), dtype: int64\n"
     ]
    }
   ],
   "source": [
    "#Creating series\n",
    "\n",
    "import pandas as pd\n",
    "# Months in a year\n",
    "months = ['January', 'February', 'March', 'April', 'May', 'June', 'July', 'August', 'September','October', 'November', 'December']\n",
    "# Monthly sales data for a product (example data)\n",
    "sales_data = [12000, 13500, 14200, 12800, 14000, 15500, 16200, 15800, 16500,17800, 18500, 17200]\n",
    "# Create a Pandas Series with months as the index\n",
    "sales_series = pd.Series(sales_data, index=months, name='Monthly Sales (USD)')\n",
    "print(sales_series)\n"
   ]
  },
  {
   "cell_type": "code",
   "execution_count": 49,
   "id": "b11a8ef5-1982-47b4-9df2-f1974756875f",
   "metadata": {},
   "outputs": [
    {
     "name": "stdout",
     "output_type": "stream",
     "text": [
      "      Name  Age         City\n",
      "0    Alice   25     New York\n",
      "1      Bob   30  Los Angeles\n",
      "2  Charlie   35      Chicago\n",
      "3    David   28      Houston\n"
     ]
    }
   ],
   "source": [
    "#Creating Dataframe\n",
    "\n",
    "data = {'Name': ['Alice', 'Bob', 'Charlie', 'David'],\n",
    "'Age': [25, 30, 35, 28],\n",
    "'City': ['New York', 'Los Angeles', 'Chicago', 'Houston']}\n",
    "# Create a DataFrame from a dictionary\n",
    "df = pd.DataFrame(data)\n",
    "print(df)\n"
   ]
  },
  {
   "cell_type": "code",
   "execution_count": 50,
   "id": "8a802eec-2ed4-4843-b703-e0301f4113e7",
   "metadata": {},
   "outputs": [
    {
     "name": "stdout",
     "output_type": "stream",
     "text": [
      "Before Adding Column\n",
      "\n",
      "      Name  Age\n",
      "0    Alice   25\n",
      "1      Bob   30\n",
      "2  Charlie   35\n",
      "3    David   28\n",
      "\n",
      "After Adding Column\n",
      "\n",
      "      Name  Age         City\n",
      "0    Alice   25     New York\n",
      "1      Bob   30  Los Angeles\n",
      "2  Charlie   35      Chicago\n",
      "3    David   28      Houston\n"
     ]
    }
   ],
   "source": [
    "#Adding a new column\n",
    "\n",
    "data = {'Name': ['Alice', 'Bob', 'Charlie', 'David'],\n",
    "'Age': [25, 30, 35, 28]}\n",
    "df = pd.DataFrame(data)\n",
    "print(\"Before Adding Column\\n\")\n",
    "print(df)\n",
    "\n",
    "df['City'] = ['New York', 'Los Angeles', 'Chicago', 'Houston']           #Adding a new column \"City\" with values\n",
    "print(\"\\nAfter Adding Column\\n\")\n",
    "print(df)"
   ]
  },
  {
   "cell_type": "code",
   "execution_count": 51,
   "id": "bb3c3113-f573-44d2-8675-0492c111cde6",
   "metadata": {},
   "outputs": [
    {
     "name": "stdout",
     "output_type": "stream",
     "text": [
      "Initial DataFrame:\n",
      "\n",
      "      Name  Age         City\n",
      "0    Alice   25     New York\n",
      "1      Bob   30  Los Angeles\n",
      "2  Charlie   35      Chicago\n",
      "3    David   28      Houston\n",
      "\n",
      "DataFrame after adding new columns:\n",
      "\n",
      "      Name  Age         City  Gender Grade\n",
      "0    Alice   25     New York  Female     A\n",
      "1      Bob   30  Los Angeles    Male     B\n",
      "2  Charlie   35      Chicago    Male     C\n",
      "3    David   28      Houston    Male     B\n",
      "\n",
      "      Name  Marks  Age         City  Gender Grade\n",
      "0    Alice     88   25     New York  Female     A\n",
      "1      Bob     93   30  Los Angeles    Male     B\n",
      "2  Charlie     57   35      Chicago    Male     C\n",
      "3    David     78   28      Houston    Male     B\n"
     ]
    }
   ],
   "source": [
    "#Adding multiple columns\n",
    "\n",
    "data = {'Name': ['Alice', 'Bob', 'Charlie', 'David'],\n",
    "'Age': [25, 30, 35, 28],\n",
    "'City': ['New York', 'Los Angeles', 'Chicago', 'Houston']}\n",
    "df = pd.DataFrame(data)\n",
    "\n",
    "print(\"Initial DataFrame:\\n\")\n",
    "print(df)\n",
    "\n",
    "new_columns = {                                                         #Creating data for the new columns\n",
    "'Gender': ['Female', 'Male', 'Male', 'Male'],\n",
    "'Grade': ['A', 'B', 'C', 'B']\n",
    "}\n",
    "\n",
    "df['Gender'] = new_columns['Gender']                                #Adding the new columns to the DataFrame\n",
    "df['Grade'] = new_columns['Grade']\n",
    "\n",
    "print(\"\\nDataFrame after adding new columns:\\n\")\n",
    "print(df)\n",
    "\n",
    "\n",
    "df.insert(1,'Marks',[88,93,57,78])                       #Adding column at a specific index\n",
    "print()\n",
    "print(df)"
   ]
  },
  {
   "cell_type": "code",
   "execution_count": 52,
   "id": "aa7adde7-6011-4b49-8885-d17ac62d745f",
   "metadata": {},
   "outputs": [
    {
     "name": "stdout",
     "output_type": "stream",
     "text": [
      "Initial DataFrame:\n",
      "\n",
      "     Name  Age          City\n",
      "0  Anjali   20     Ghaziabad\n",
      "1  Chhavi   21  Bulandshahar\n",
      "2   Kajal   25       Lucknow\n",
      "3   David   28         Noida\n",
      "\n",
      "        Name  Age         City\n",
      "0  Divyanshi   20        Delhi\n",
      "1    Avanshi   22  Bulandshahr\n",
      "2     Rupesh   21        Delhi\n",
      "\n",
      "DataFrame after adding a new row:\n",
      "\n",
      "        Name  Age          City\n",
      "0     Anjali   20     Ghaziabad\n",
      "1     Chhavi   21  Bulandshahar\n",
      "2      Kajal   25       Lucknow\n",
      "3      David   28         Noida\n",
      "4  Divyanshi   20         Delhi\n",
      "5    Avanshi   22   Bulandshahr\n",
      "6     Rupesh   21         Delhi\n"
     ]
    }
   ],
   "source": [
    "#Adding a new row\n",
    "\n",
    "data = {'Name': ['Anjali', 'Chhavi', 'Kajal', 'David'],\n",
    "'Age': [20, 21, 25, 28],\n",
    "'City': ['Ghaziabad', 'Bulandshahar', 'Lucknow', 'Noida']}\n",
    "dataframe = pd.DataFrame(data)\n",
    "\n",
    "print(\"Initial DataFrame:\\n\")\n",
    "print(dataframe)\n",
    "\n",
    "new_row = pd.DataFrame([{'Name': 'Divyanshi', 'Age': 20, 'City': 'Delhi'},\n",
    "{'Name': 'Avanshi', 'Age': 22, 'City': 'Bulandshahr'},\n",
    "{'Name': 'Rupesh', 'Age': 21, 'City': 'Delhi'}])\n",
    "\n",
    "print()\n",
    "print(new_row)\n",
    "dataframe2 = pd.concat([dataframe, new_row], ignore_index=True)   #Adding multiple rows and ignore_index for adding it list wise\n",
    "\n",
    "print(\"\\nDataFrame after adding a new row:\\n\")\n",
    "print(dataframe2)\n"
   ]
  },
  {
   "cell_type": "code",
   "execution_count": 53,
   "id": "27d9c794-0240-4e6d-8df7-9915bad2ac29",
   "metadata": {},
   "outputs": [
    {
     "name": "stdout",
     "output_type": "stream",
     "text": [
      "Initial DataFrame:\n",
      "\n",
      "     Name  Age          City\n",
      "0  Anjali   20     Ghaziabad\n",
      "1  Chhavi   21  Bulandshahar\n",
      "2   Kajal   25       Lucknow\n",
      "3   David   28         Noida\n",
      "\n",
      "DataFrame after adding a new row:\n",
      "\n",
      "     Name  Age          City\n",
      "0  Anjali   20     Ghaziabad\n",
      "1  Chhavi   21  Bulandshahar\n",
      "2     Eva   24         Delhi\n",
      "3   Kajal   25       Lucknow\n",
      "4   David   28         Noida\n"
     ]
    }
   ],
   "source": [
    "#Adding a new row at a specified index\n",
    "\n",
    "data = {'Name': ['Anjali', 'Chhavi', 'Kajal', 'David'],\n",
    "'Age': [20, 21, 25, 28],\n",
    "'City': ['Ghaziabad', 'Bulandshahar', 'Lucknow', 'Noida']}\n",
    "dataframe = pd.DataFrame(data)\n",
    "\n",
    "print(\"Initial DataFrame:\\n\")\n",
    "print(dataframe)\n",
    "\n",
    "new_row = {'Name': 'Eva', 'Age': 24, 'City': 'Delhi'}\n",
    "\n",
    "insert_index = 1.5 \n",
    "\n",
    "dataframe.loc[insert_index]=new_row\n",
    "dataframe = dataframe.sort_index().reset_index(drop=True)\n",
    "\n",
    "print(\"\\nDataFrame after adding a new row:\\n\")\n",
    "print(dataframe)\n"
   ]
  },
  {
   "cell_type": "code",
   "execution_count": 43,
   "id": "95e691cd-7878-4e04-adc0-e4e88f864cce",
   "metadata": {},
   "outputs": [
    {
     "name": "stdout",
     "output_type": "stream",
     "text": [
      "Before Updating Column\n",
      "\n",
      "    Fruit   Color  Price\n",
      "0   Apple     Red     45\n",
      "1  Banana  Yellow     90\n",
      "2   Mango  Yellow     37\n",
      "3   Grape   Green     49\n",
      "\n",
      "After Updating Column\n",
      "\n",
      "  Fruit Name   Color  Price\n",
      "0      Apple     Red     45\n",
      "1     Banana  Yellow     90\n",
      "2      Mango  Yellow     37\n",
      "3      Grape   Green     49\n"
     ]
    }
   ],
   "source": [
    "#Updating single column\n",
    "\n",
    "fruit_data = {\"Fruit\": ['Apple','Banana','Mango','Grape'],\"Color\":\n",
    "['Red','Yellow','Yellow','Green'],\n",
    "\"Price\": [45, 90, 37, 49]\n",
    "}\n",
    "\n",
    "data = pd.DataFrame(fruit_data)\n",
    "print(\"Before Updating Column\\n\")\n",
    "print(data)\n",
    "\n",
    "data=data.rename(columns = {'Fruit':'Fruit Name'})\n",
    "print(\"\\nAfter Updating Column\\n\")\n",
    "print(data)\n"
   ]
  },
  {
   "cell_type": "code",
   "execution_count": 54,
   "id": "00a7e1c0-ef11-4c21-bd2f-11805be51d7f",
   "metadata": {},
   "outputs": [
    {
     "name": "stdout",
     "output_type": "stream",
     "text": [
      "Before Updating Column\n",
      "\n",
      "    Fruit   Color  Price\n",
      "0   Apple     Red     45\n",
      "1  Banana  Yellow     90\n",
      "2   Mango  Yellow     37\n",
      "3   Grape   Green     49\n",
      "\n",
      "After Updating Column\n",
      "\n",
      "  Fruit Name   Color  Cost\n",
      "0      Apple     Red    45\n",
      "1     Banana  Yellow    90\n",
      "2      Mango  Yellow    37\n",
      "3      Grape   Green    49\n",
      "\n",
      "After again Updating Column\n",
      "\n",
      "  fruit name   color  cost\n",
      "0      Apple     Red    45\n",
      "1     Banana  Yellow    90\n",
      "2      Mango  Yellow    37\n",
      "3      Grape   Green    49\n",
      "\n",
      "Display 4th row Value\n",
      "\n",
      "fruit name    Grape\n",
      "color         Green\n",
      "cost             49\n",
      "Name: 3, dtype: object\n",
      "\n",
      "After Updating Values\n",
      "\n",
      "  fruit name   color  cost\n",
      "0      Apple     Red    45\n",
      "1     Banana  Yellow    90\n",
      "2      Mango  Yellow    37\n",
      "3       Pear   Green    50\n",
      "\n",
      "Fruit    Grape\n",
      "Name: 3, dtype: object\n"
     ]
    }
   ],
   "source": [
    "#Updating row values\n",
    "\n",
    "fruit_data = {\"Fruit\": ['Apple','Banana','Mango','Grape'],\"Color\":\n",
    "['Red','Yellow','Yellow','Green'],\n",
    "\"Price\": [45, 90, 37, 49]\n",
    "}\n",
    "\n",
    "data = pd.DataFrame(fruit_data)\n",
    "print(\"Before Updating Column\\n\")\n",
    "print(data)\n",
    "\n",
    "#Updating multiple columns\n",
    "data=data.rename(columns = {'Fruit':'Fruit Name','Colour':'Color','Price':'Cost'})\n",
    "print(\"\\nAfter Updating Column\\n\")\n",
    "print(data)\n",
    "\n",
    "data.columns=data.columns.str.lower()\n",
    "print(\"\\nAfter again Updating Column\\n\")\n",
    "print(data)\n",
    "\n",
    "print(\"\\nDisplay 4th row Value\\n\")\n",
    "print(data.loc[3])\n",
    "data.loc[3] = ['Pear','Green',50]\n",
    "print(\"\\nAfter Updating Values\\n\")\n",
    "print(data)\n",
    "\n",
    "data = pd.DataFrame(fruit_data)\n",
    "print()\n",
    "print(data.loc[3, ['Fruit']])\n",
    "\n"
   ]
  },
  {
   "cell_type": "code",
   "execution_count": 46,
   "id": "696e6159-7b65-45a6-a5a5-7e0c0d698fa4",
   "metadata": {},
   "outputs": [
    {
     "name": "stdout",
     "output_type": "stream",
     "text": [
      "Original Dataset\n",
      "\n",
      "     Vegetable        Color  Price\n",
      "0      Brinjal       Purple     45\n",
      "1  Lady Finger        Green     90\n",
      "2     Capsicum  Light Green     65\n",
      "\n",
      "After Updating Values\n",
      "\n",
      "     Vegetable        Color  Price    Remarks\n",
      "0      Brinjal       Purple     45      Cheap\n",
      "1  Lady Finger        Green     90  Expensive\n",
      "2     Capsicum  Light Green     65  Expensive\n"
     ]
    }
   ],
   "source": [
    "#Updating rows and columns based on condition\n",
    "\n",
    "vegetable_data = {\"Vegetable\": ['Brinjal','Lady Finger','Capsicum'],\"Color\":\n",
    "['Purple','Green','Light Green'],\n",
    "\"Price\": [45, 90, 65]\n",
    "}\n",
    "\n",
    "data = pd.DataFrame(vegetable_data)\n",
    "print(\"Original Dataset\\n\")\n",
    "print(data)\n",
    "\n",
    "data.loc[data['Price'] >60, 'Remarks'] = 'Expensive'\n",
    "data.loc[data['Price'] <60, 'Remarks'] = 'Cheap'\n",
    "print(\"\\nAfter Updating Values\\n\")\n",
    "print(data)\n"
   ]
  }
 ],
 "metadata": {
  "kernelspec": {
   "display_name": "Python 3 (ipykernel)",
   "language": "python",
   "name": "python3"
  },
  "language_info": {
   "codemirror_mode": {
    "name": "ipython",
    "version": 3
   },
   "file_extension": ".py",
   "mimetype": "text/x-python",
   "name": "python",
   "nbconvert_exporter": "python",
   "pygments_lexer": "ipython3",
   "version": "3.12.4"
  }
 },
 "nbformat": 4,
 "nbformat_minor": 5
}
