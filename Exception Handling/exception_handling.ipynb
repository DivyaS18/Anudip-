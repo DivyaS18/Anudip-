{
 "cells": [
  {
   "cell_type": "code",
   "execution_count": 1,
   "id": "ea091e68-1689-456a-90e8-aa980861942e",
   "metadata": {},
   "outputs": [
    {
     "name": "stdout",
     "output_type": "stream",
     "text": [
      "Line 1\n",
      "Line 2\n",
      "Line 3\n",
      "Line 4\n"
     ]
    },
    {
     "name": "stdin",
     "output_type": "stream",
     "text": [
      "enter first number: 45\n",
      "enter second number: 0\n"
     ]
    },
    {
     "name": "stdout",
     "output_type": "stream",
     "text": [
      "division by zero\n",
      "Line 6\n"
     ]
    }
   ],
   "source": [
    "#Exception Hnadling\n",
    "print(\"Line 1\")\n",
    "print(\"Line 2\")\n",
    "print(\"Line 3\")\n",
    "print(\"Line 4\")\n",
    "num1=int(input(\"enter first number:\"))\n",
    "num2=int(input(\"enter second number:\"))\n",
    "try:\n",
    "    print(num1/num2)\n",
    "    print(\"inside a try\")\n",
    "except ZeroDivisionError as e:\n",
    "    print(e)                       \n",
    "\n",
    "print(\"Line 6\")\n"
   ]
  },
  {
   "cell_type": "code",
   "execution_count": 2,
   "id": "f21054e2-e5ab-4b8d-a935-dcbc21c04082",
   "metadata": {},
   "outputs": [
    {
     "name": "stdout",
     "output_type": "stream",
     "text": [
      "Line 1\n",
      "Line 2\n",
      "Line 3\n",
      "Line 4\n"
     ]
    },
    {
     "name": "stdin",
     "output_type": "stream",
     "text": [
      "enter first number: 23\n",
      "enter second number: 0\n"
     ]
    },
    {
     "name": "stdout",
     "output_type": "stream",
     "text": [
      "Something went wrong\n",
      "Line 6\n"
     ]
    }
   ],
   "source": [
    "print(\"Line 1\")\n",
    "print(\"Line 2\")\n",
    "print(\"Line 3\")\n",
    "print(\"Line 4\")\n",
    "num1=int(input(\"enter first number:\"))\n",
    "num2=int(input(\"enter second number:\"))\n",
    "try:\n",
    "    print(num1/num2)\n",
    "    print(\"inside a try\")\n",
    "except (ZeroDivisionError,FileNotFoundError):   #handling multiple exceptions \n",
    "    print(\"Something went wrong\")\n",
    "\n",
    "print(\"Line 6\")"
   ]
  },
  {
   "cell_type": "code",
   "execution_count": 4,
   "id": "26861137-8b36-4e96-a2da-9d8445216e64",
   "metadata": {},
   "outputs": [
    {
     "name": "stdout",
     "output_type": "stream",
     "text": [
      "Line 1\n",
      "Line 2\n",
      "Line 3\n",
      "Line 4\n"
     ]
    },
    {
     "name": "stdin",
     "output_type": "stream",
     "text": [
      "enter first number: 45\n",
      "enter second number: 67\n"
     ]
    },
    {
     "name": "stdout",
     "output_type": "stream",
     "text": [
      "0.6716417910447762\n",
      "something went wrong\n"
     ]
    }
   ],
   "source": [
    "print(\"Line 1\")\n",
    "print(\"Line 2\")\n",
    "print(\"Line 3\")\n",
    "print(\"Line 4\")\n",
    "num1=int(input(\"enter first number:\"))\n",
    "num2=int(input(\"enter second number:\"))\n",
    "try:\n",
    "    print(num1/num2)\n",
    "    open(\"anudip.txt\")\n",
    "except:\n",
    "    print(\"something went wrong\")   #it includes all the exceptions"
   ]
  },
  {
   "cell_type": "code",
   "execution_count": 5,
   "id": "c242bda5-0331-4491-8d3f-749391cd7625",
   "metadata": {},
   "outputs": [
    {
     "name": "stdout",
     "output_type": "stream",
     "text": [
      "Line 1\n",
      "Line 2\n",
      "Line 3\n",
      "Line 4\n"
     ]
    },
    {
     "name": "stdin",
     "output_type": "stream",
     "text": [
      "enter first number: 45\n",
      "enter second number: 0\n"
     ]
    },
    {
     "name": "stdout",
     "output_type": "stream",
     "text": [
      "Something went wrong\n",
      "Finally block\n",
      "line 6\n"
     ]
    }
   ],
   "source": [
    "print(\"Line 1\")\n",
    "print(\"Line 2\")\n",
    "print(\"Line 3\")\n",
    "print(\"Line 4\")\n",
    "num1=int(input(\"enter first number:\"))\n",
    "num2=int(input(\"enter second number:\"))\n",
    "try:\n",
    "    print(num1/num2)\n",
    "    open(\"anudip.txt\")\n",
    "except (ZeroDivisionError,FileNotFoundError):\n",
    "    print(\"Something went wrong\")\n",
    "else:\n",
    "    print(\"Else block\")         #if no exception then else block runs\n",
    "finally:\n",
    "    print(\"Finally block\")        #it runs everytime\n",
    "print(\"line 6\")\n"
   ]
  },
  {
   "cell_type": "code",
   "execution_count": 9,
   "id": "ae9e60cf-e8cb-45f4-a0e9-5e7017329a57",
   "metadata": {},
   "outputs": [
    {
     "name": "stdout",
     "output_type": "stream",
     "text": [
      "Line 1\n",
      "Line 2\n",
      "Line 3\n",
      "Line 4\n"
     ]
    },
    {
     "name": "stdin",
     "output_type": "stream",
     "text": [
      "enter first number: 45\n",
      "enter second number: 89\n"
     ]
    },
    {
     "name": "stdout",
     "output_type": "stream",
     "text": [
      "0.5056179775280899\n",
      "inside a try\n",
      "[Errno 2] No such file or directory: 'anudip.txt'\n",
      "Line 6\n"
     ]
    }
   ],
   "source": [
    "print(\"Line 1\")\n",
    "print(\"Line 2\")\n",
    "print(\"Line 3\")\n",
    "print(\"Line 4\")\n",
    "num1=int(input(\"enter first number:\"))\n",
    "num2=int(input(\"enter second number:\"))\n",
    "try:\n",
    "    print(num1/num2)\n",
    "    print(\"inside a try\")\n",
    "    open(\"anudip.txt\")\n",
    "except ZeroDivisionError as e:\n",
    "    print(e)\n",
    "except FileNotFoundError as e:        #multiple exceptions\n",
    "    print(e)                          #if have multiple exception then it will only print the first exception\n",
    "\n",
    "print(\"Line 6\")"
   ]
  },
  {
   "cell_type": "code",
   "execution_count": 13,
   "id": "973c37fb-a26a-48ce-84ee-7cf26c461432",
   "metadata": {},
   "outputs": [
    {
     "name": "stdin",
     "output_type": "stream",
     "text": [
      "Enter the first number:  67\n",
      "Enter the second number:  y\n"
     ]
    },
    {
     "name": "stdout",
     "output_type": "stream",
     "text": [
      "Second input must be a numerical value.\n"
     ]
    }
   ],
   "source": [
    "#write a program that prompts the user to input 2 numbers and raises a type error exception if the inputs are not numerical\n",
    "try:\n",
    "    num1 = input(\"Enter the first number: \")\n",
    "    if not num1.isdigit():\n",
    "        raise TypeError(\"First input must be a numerical value.\")\n",
    "    \n",
    "    num2 = input(\"Enter the second number: \")\n",
    "    if not num2.isdigit():\n",
    "        raise TypeError(\"Second input must be a numerical value.\")\n",
    "\n",
    "except TypeError as e:\n",
    "    print(e)\n"
   ]
  },
  {
   "cell_type": "code",
   "execution_count": null,
   "id": "a4c89a27-5e7d-47ac-911f-7dc8c32691fb",
   "metadata": {},
   "outputs": [],
   "source": []
  }
 ],
 "metadata": {
  "kernelspec": {
   "display_name": "Python 3 (ipykernel)",
   "language": "python",
   "name": "python3"
  },
  "language_info": {
   "codemirror_mode": {
    "name": "ipython",
    "version": 3
   },
   "file_extension": ".py",
   "mimetype": "text/x-python",
   "name": "python",
   "nbconvert_exporter": "python",
   "pygments_lexer": "ipython3",
   "version": "3.12.4"
  }
 },
 "nbformat": 4,
 "nbformat_minor": 5
}
