{
 "cells": [
  {
   "cell_type": "code",
   "execution_count": 1,
   "id": "78f86930-f147-43c1-8ed1-52be141c1b28",
   "metadata": {},
   "outputs": [
    {
     "name": "stdout",
     "output_type": "stream",
     "text": [
      "Study 3 hour xyz\n",
      "Sleep 1 hour\n"
     ]
    }
   ],
   "source": [
    "#program to show class\n",
    "class Student:\n",
    "    name=\"xyz\"\n",
    "    age=0\n",
    "    def study(self):\n",
    "        print(\"Study 3 hour\",self.name)   #to search name inside the class\n",
    "        self.sleep()            #to call method inside the class otherwise it will search outside the class\n",
    "        \n",
    "    def sleep(self):\n",
    "        print(\"Sleep 1 hour\")\n",
    "        \n",
    "\n",
    "obj=Student()\n",
    "obj.study()                        #if self is not included inside class for calling method then it will create error if only method is called"
   ]
  },
  {
   "cell_type": "code",
   "execution_count": 2,
   "id": "49ccc040-b350-4bdf-97e5-9c83c76ccf30",
   "metadata": {},
   "outputs": [],
   "source": [
    "#single inheritance\n",
    "class A:\n",
    "    def show(self):\n",
    "        print(\"this is show method\")\n",
    "\n",
    "class B(A):\n",
    "    pass"
   ]
  },
  {
   "cell_type": "code",
   "execution_count": 3,
   "id": "8cc39441-2630-4b5a-8cc8-a3801901d307",
   "metadata": {},
   "outputs": [],
   "source": [
    "#multilevel inheritance\n",
    "class A:\n",
    "    def show(self):\n",
    "        print(\"this is show method\")\n",
    "\n",
    "class B(A):\n",
    "    pass\n",
    "\n",
    "class C(B):\n",
    "    pass\n"
   ]
  },
  {
   "cell_type": "code",
   "execution_count": 4,
   "id": "9a64c1c7-7ee3-4c24-ad37-f00013ac0fe6",
   "metadata": {},
   "outputs": [],
   "source": [
    "#hierarchical inheritance\n",
    "class A:\n",
    "    def show(self):\n",
    "        print(\"this is show method\")\n",
    "\n",
    "class B(A):\n",
    "    pass\n",
    "\n",
    "class C(A):\n",
    "    pass"
   ]
  },
  {
   "cell_type": "code",
   "execution_count": 5,
   "id": "14d5155a-200a-46b3-946d-13ea50a0cb8c",
   "metadata": {},
   "outputs": [
    {
     "name": "stdout",
     "output_type": "stream",
     "text": [
      "this is show method\n"
     ]
    },
    {
     "ename": "AttributeError",
     "evalue": "'C' object has no attribute 'demo'",
     "output_type": "error",
     "traceback": [
      "\u001b[1;31m---------------------------------------------------------------------------\u001b[0m",
      "\u001b[1;31mAttributeError\u001b[0m                            Traceback (most recent call last)",
      "Cell \u001b[1;32mIn[5], line 19\u001b[0m\n\u001b[0;32m     17\u001b[0m obj\u001b[38;5;241m=\u001b[39mC()\n\u001b[0;32m     18\u001b[0m obj\u001b[38;5;241m.\u001b[39mshow()\n\u001b[1;32m---> 19\u001b[0m \u001b[43mobj\u001b[49m\u001b[38;5;241;43m.\u001b[39;49m\u001b[43mdemo\u001b[49m()    \u001b[38;5;66;03m#will show error as not sibling class doesn't share method\u001b[39;00m\n",
      "\u001b[1;31mAttributeError\u001b[0m: 'C' object has no attribute 'demo'"
     ]
    }
   ],
   "source": [
    "#hybrid inheritance(combination of hierarchical and multiple)\n",
    "class A:\n",
    "    def show(self):\n",
    "        print(\"this is show method\")\n",
    "\n",
    "class B(A):\n",
    "    def demo(self):\n",
    "        print(\"Demo method\")\n",
    "\n",
    "class C(A):\n",
    "    pass\n",
    "\n",
    "class D(B,C):\n",
    "    pass\n",
    "\n",
    "\n",
    "obj=C()\n",
    "obj.show()\n",
    "obj.demo()    #will show error as not sibling class doesn't share method"
   ]
  },
  {
   "cell_type": "code",
   "execution_count": 6,
   "id": "546a5064-37df-4c7f-89dd-5e2ace280e67",
   "metadata": {},
   "outputs": [
    {
     "ename": "TypeError",
     "evalue": "setData() missing 1 required positional argument: 'age'",
     "output_type": "error",
     "traceback": [
      "\u001b[1;31m---------------------------------------------------------------------------\u001b[0m",
      "\u001b[1;31mTypeError\u001b[0m                                 Traceback (most recent call last)",
      "Cell \u001b[1;32mIn[6], line 8\u001b[0m\n\u001b[0;32m      5\u001b[0m \u001b[38;5;28;01mdef\u001b[39;00m \u001b[38;5;21msetData\u001b[39m(\u001b[38;5;28mid\u001b[39m,name,age):\n\u001b[0;32m      6\u001b[0m     \u001b[38;5;28mprint\u001b[39m(\u001b[38;5;124m\"\u001b[39m\u001b[38;5;124mid,name,age\u001b[39m\u001b[38;5;124m\"\u001b[39m)\n\u001b[1;32m----> 8\u001b[0m \u001b[43msetData\u001b[49m\u001b[43m(\u001b[49m\u001b[38;5;241;43m101\u001b[39;49m\u001b[43m,\u001b[49m\u001b[38;5;124;43m\"\u001b[39;49m\u001b[38;5;124;43mA\u001b[39;49m\u001b[38;5;124;43m\"\u001b[39;49m\u001b[43m)\u001b[49m\n\u001b[0;32m     10\u001b[0m \u001b[38;5;28;01mdef\u001b[39;00m \u001b[38;5;21msum\u001b[39m(a,b,c\u001b[38;5;241m=\u001b[39m\u001b[38;5;241m0\u001b[39m):\n\u001b[0;32m     11\u001b[0m     \u001b[38;5;28mprint\u001b[39m(a\u001b[38;5;241m+\u001b[39mb\u001b[38;5;241m+\u001b[39mc)\n",
      "\u001b[1;31mTypeError\u001b[0m: setData() missing 1 required positional argument: 'age'"
     ]
    }
   ],
   "source": [
    "# Demonstrating Polymorphism via Method Overloading in Python\n",
    "def setData(id,name):\n",
    "    print(\"id,name\")\n",
    "\n",
    "def setData(id,name,age):\n",
    "    print(\"id,name,age\")\n",
    "\n",
    "setData(101,\"A\")\n",
    "\n",
    "def sum(a,b,c=0):\n",
    "    print(a+b+c)\n",
    "\n",
    "sum(10,20,30)\n",
    "sum(10,20)         #will show error that's why we use default value\n"
   ]
  },
  {
   "cell_type": "code",
   "execution_count": 7,
   "id": "5cfcb06c-01dd-4536-a8e2-760063607c1c",
   "metadata": {},
   "outputs": [
    {
     "name": "stdout",
     "output_type": "stream",
     "text": [
      "i can't fly\n"
     ]
    }
   ],
   "source": [
    "''' Polymorphism Inheritance:\n",
    "Polymorphism lets us define methods in the child class that have the same name as the methods in the parent class. In inheritance, the child class inherits the methods\n",
    "from the parent class, However, it is possible to modify a method in a child class that it has inherited from the parent class. This is particularly useful in cases\n",
    "where the method inherited from the parent class doesn't quite fit the child class. In such cases, we re-implement the method in the child class. This process of\n",
    "re-implementing a method in the child class is known as method overriding.'''\n",
    "\n",
    "class Bird:\n",
    "    def intro(self):\n",
    "        print(\"there are many types of birds\")\n",
    "\n",
    "    def flight(self):\n",
    "        print(\"Most of the birds can fly but some cannot.\")\n",
    "\n",
    "class sparrow(Bird):\n",
    "    def flight(self):\n",
    "        print(\"I can fly\")\n",
    "\n",
    "class ostrich(Bird):\n",
    "    def flight(self):\n",
    "        print(\"i can't fly\")\n",
    "\n",
    "obj1=ostrich()\n",
    "obj1.flight()"
   ]
  },
  {
   "cell_type": "code",
   "execution_count": 15,
   "id": "7bf86427-66c6-49af-bc7a-a60d578b2d60",
   "metadata": {},
   "outputs": [
    {
     "ename": "AttributeError",
     "evalue": "'B' object has no attribute 'name'",
     "output_type": "error",
     "traceback": [
      "\u001b[1;31m---------------------------------------------------------------------------\u001b[0m",
      "\u001b[1;31mAttributeError\u001b[0m                            Traceback (most recent call last)",
      "Cell \u001b[1;32mIn[15], line 9\u001b[0m\n\u001b[0;32m      6\u001b[0m         \u001b[38;5;28mprint\u001b[39m(\u001b[38;5;124m\"\u001b[39m\u001b[38;5;124mThis is show method\u001b[39m\u001b[38;5;124m\"\u001b[39m,\u001b[38;5;28mself\u001b[39m\u001b[38;5;241m.\u001b[39mname)    \u001b[38;5;66;03m#this will produce AttributeError as it is not accessible from the child class as it is a private attribute\u001b[39;00m\n\u001b[0;32m      8\u001b[0m obj\u001b[38;5;241m=\u001b[39mB()\n\u001b[1;32m----> 9\u001b[0m \u001b[43mobj\u001b[49m\u001b[38;5;241;43m.\u001b[39;49m\u001b[43mshow\u001b[49m\u001b[43m(\u001b[49m\u001b[43m)\u001b[49m\n",
      "Cell \u001b[1;32mIn[15], line 6\u001b[0m, in \u001b[0;36mB.show\u001b[1;34m(self)\u001b[0m\n\u001b[0;32m      5\u001b[0m \u001b[38;5;28;01mdef\u001b[39;00m \u001b[38;5;21mshow\u001b[39m(\u001b[38;5;28mself\u001b[39m):\n\u001b[1;32m----> 6\u001b[0m     \u001b[38;5;28mprint\u001b[39m(\u001b[38;5;124m\"\u001b[39m\u001b[38;5;124mThis is show method\u001b[39m\u001b[38;5;124m\"\u001b[39m,\u001b[38;5;28;43mself\u001b[39;49m\u001b[38;5;241;43m.\u001b[39;49m\u001b[43mname\u001b[49m)\n",
      "\u001b[1;31mAttributeError\u001b[0m: 'B' object has no attribute 'name'"
     ]
    }
   ],
   "source": [
    "class A:\n",
    "    _name=\"abc\"     # Private attribute\n",
    "\n",
    "class B(A):\n",
    "    def show(self):\n",
    "        print(\"This is show method\",self.name)    #this will produce AttributeError as it is not accessible from the child class as it is a private attribute\n",
    "\n",
    "obj=B()\n",
    "obj.show()"
   ]
  },
  {
   "cell_type": "code",
   "execution_count": 12,
   "id": "ceede52a-4167-4592-ad70-928b77339490",
   "metadata": {},
   "outputs": [
    {
     "name": "stdout",
     "output_type": "stream",
     "text": [
      "This is show method abc\n"
     ]
    }
   ],
   "source": [
    "class A:\n",
    "    _name = \"abc\"  # Protected attribute\n",
    "\n",
    "class B(A):\n",
    "    def show(self):\n",
    "        print(\"This is show method\", self._name)  # Accessing protected attribute\n",
    "\n",
    "obj = B()\n",
    "obj.show()"
   ]
  },
  {
   "cell_type": "code",
   "execution_count": null,
   "id": "ba56200f-70be-438b-890b-3345e0d59881",
   "metadata": {},
   "outputs": [],
   "source": []
  }
 ],
 "metadata": {
  "kernelspec": {
   "display_name": "Python 3 (ipykernel)",
   "language": "python",
   "name": "python3"
  },
  "language_info": {
   "codemirror_mode": {
    "name": "ipython",
    "version": 3
   },
   "file_extension": ".py",
   "mimetype": "text/x-python",
   "name": "python",
   "nbconvert_exporter": "python",
   "pygments_lexer": "ipython3",
   "version": "3.12.4"
  }
 },
 "nbformat": 4,
 "nbformat_minor": 5
}
