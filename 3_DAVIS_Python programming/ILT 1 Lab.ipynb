{
 "cells": [
  {
   "cell_type": "code",
   "execution_count": 2,
   "id": "c18763c9-8a1f-4517-94a6-c2d9de1fa46e",
   "metadata": {},
   "outputs": [
    {
     "name": "stdin",
     "output_type": "stream",
     "text": [
      "Enter a number:  3\n"
     ]
    },
    {
     "name": "stdout",
     "output_type": "stream",
     "text": [
      "Odd\n"
     ]
    }
   ],
   "source": [
    "#Using input() function take one number from the user and using ternary operators check whether the number is even or odd\n",
    "number = int(input(\"Enter a number: \"))\n",
    "result = \"Even\" if number % 2 == 0 else \"Odd\"      # Checking if the number is even or odd using a ternary operator\n",
    "print(result)"
   ]
  },
  {
   "cell_type": "code",
   "execution_count": 3,
   "id": "86cfcc03-4614-4a77-a13e-251734b477dd",
   "metadata": {},
   "outputs": [
    {
     "name": "stdin",
     "output_type": "stream",
     "text": [
      "Enter the first number:  45\n",
      "Enter the second number:  67\n"
     ]
    },
    {
     "name": "stdout",
     "output_type": "stream",
     "text": [
      "After swapping:\n",
      "First number: 67\n",
      "Second number: 45\n"
     ]
    }
   ],
   "source": [
    "#Using input function take two number and then swap the number\n",
    "num1 = int(input(\"Enter the first number: \"))\n",
    "num2 = int(input(\"Enter the second number: \"))\n",
    "\n",
    "num1, num2 = num2, num1   # Swapping the numbers\n",
    "\n",
    "print(\"After swapping:\")\n",
    "print(\"First number:\", num1)\n",
    "print(\"Second number:\", num2)"
   ]
  },
  {
   "cell_type": "code",
   "execution_count": 4,
   "id": "af1c89e7-d78e-49f7-ad2a-5bc3a0f5b16e",
   "metadata": {},
   "outputs": [
    {
     "name": "stdin",
     "output_type": "stream",
     "text": [
      "Enter the distance in kilometers:  56\n"
     ]
    },
    {
     "name": "stdout",
     "output_type": "stream",
     "text": [
      "56.0 kilometers is equal to 34.796776 miles.\n"
     ]
    }
   ],
   "source": [
    "#Write a Program to Convert Kilometers to Miles\n",
    "km_to_miles_factor = 0.621371        # Define the conversion factor\n",
    "kilometers = float(input(\"Enter the distance in kilometers: \"))\n",
    "miles = kilometers * km_to_miles_factor\n",
    "print(f\"{kilometers} kilometers is equal to {miles} miles.\")"
   ]
  },
  {
   "cell_type": "code",
   "execution_count": 5,
   "id": "cd91ddbe-1f2f-4944-8d0a-3cb17d60bf22",
   "metadata": {},
   "outputs": [
    {
     "name": "stdout",
     "output_type": "stream",
     "text": [
      "The Simple Interest on Rs. 200 for 5 years at 5% per year is Rs. 50.0.\n"
     ]
    }
   ],
   "source": [
    "# Find the Simple Interest on Rs. 200 for 5 years at 5% per year\n",
    "P = 200  # Principal amount in Rs.\n",
    "R = 5    # Annual interest rate in percentage\n",
    "T = 5    # Time in years\n",
    "\n",
    "SI = (P * R * T) / 100   # Calculating Simple Interest\n",
    "print(f\"The Simple Interest on Rs. {P} for {T} years at {R}% per year is Rs. {SI}.\")\n"
   ]
  }
 ],
 "metadata": {
  "kernelspec": {
   "display_name": "Python 3 (ipykernel)",
   "language": "python",
   "name": "python3"
  },
  "language_info": {
   "codemirror_mode": {
    "name": "ipython",
    "version": 3
   },
   "file_extension": ".py",
   "mimetype": "text/x-python",
   "name": "python",
   "nbconvert_exporter": "python",
   "pygments_lexer": "ipython3",
   "version": "3.12.4"
  }
 },
 "nbformat": 4,
 "nbformat_minor": 5
}
