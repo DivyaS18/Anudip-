{
 "cells": [
  {
   "cell_type": "code",
   "execution_count": 7,
   "id": "c107bf4a-1b94-4e3c-ae55-a3b453ea29a7",
   "metadata": {},
   "outputs": [],
   "source": [
    "#ILT-5 Lab File handling, OOPs and Exception handling\n",
    "#Assignment:"
   ]
  },
  {
   "cell_type": "code",
   "execution_count": 24,
   "id": "fa24662d-bb01-4d3d-a07b-0b0eeeb7f9e0",
   "metadata": {},
   "outputs": [],
   "source": [
    "# Creating a ABC.txt file for usage.\n",
    "with open('ABC.txt', 'w') as file:\n",
    "    # Write some example content to the file\n",
    "    file.write('This is an example text file.\\n')\n",
    "    file.write('It is named ABC.txt and contains some text.\\n')\n",
    "    file.write('Python makes file handling easy!\\n')\n"
   ]
  },
  {
   "cell_type": "code",
   "execution_count": 25,
   "id": "182519df-c7ee-4ce3-ba79-8803c3b38af7",
   "metadata": {},
   "outputs": [
    {
     "name": "stdout",
     "output_type": "stream",
     "text": [
      "This is an example text file.\n",
      "It is named ABC.txt and contains some text.\n",
      "Python makes file handling easy!\n"
     ]
    }
   ],
   "source": [
    "#1. Write a function in python to read the content from a text file \"ABC.txt\" line by line and display the same on screen.\n",
    "\n",
    "def read_and_display_file(filename):\n",
    "    try:\n",
    "        with open(filename, 'r') as file:\n",
    "            for line in file:\n",
    "                print(line, end='')  \n",
    "    except FileNotFoundError:\n",
    "        print(f\"Error: The file '{filename}' was not found.\")\n",
    "    except IOError:\n",
    "        print(f\"Error: An IOError occurred while trying to read the file '{filename}'.\")\n",
    "\n",
    "# Calling the function \n",
    "read_and_display_file(\"ABC.txt\")\n"
   ]
  },
  {
   "cell_type": "code",
   "execution_count": 26,
   "id": "b2b8c333-f3cc-444d-a468-51c64035b7f8",
   "metadata": {},
   "outputs": [
    {
     "name": "stdout",
     "output_type": "stream",
     "text": [
      "Total number of words in 'ABC.txt': 19\n"
     ]
    }
   ],
   "source": [
    "#2. Write a function in Python to count and display the total number of words in a text file “ABC.txt”\n",
    "\n",
    "def count_words_in_file(filename):\n",
    "    try:\n",
    "        with open(filename, 'r') as file:\n",
    "            word_count = 0\n",
    "            for line in file:\n",
    "                words = line.split()                      # Splits the line into words based on whitespace and counts them\n",
    "                word_count += len(words)\n",
    "        \n",
    "        print(f\"Total number of words in '{filename}': {word_count}\")\n",
    "    except FileNotFoundError:\n",
    "        print(f\"Error: The file '{filename}' was not found.\")\n",
    "    except IOError:\n",
    "        print(f\"Error: An IOError occurred while trying to read the file '{filename}'.\")\n",
    "\n",
    "# Calling the function \n",
    "count_words_in_file(\"ABC.txt\")\n"
   ]
  },
  {
   "cell_type": "code",
   "execution_count": 27,
   "id": "cd8f0ded-8a05-4da6-bb97-ab97d54d6b14",
   "metadata": {},
   "outputs": [
    {
     "name": "stdout",
     "output_type": "stream",
     "text": [
      "Total number of uppercase characters in 'ABC.txt': 6\n"
     ]
    }
   ],
   "source": [
    "#3. Write a function in Python to count uppercase character in a text file “ABC.txt”\n",
    "\n",
    "def count_uppercase_characters(filename):\n",
    "    try:\n",
    "        with open(filename, 'r') as file:\n",
    "            uppercase_count = 0\n",
    "            for line in file:\n",
    "                for char in line:\n",
    "                    if char.isupper():\n",
    "                        uppercase_count += 1\n",
    "        \n",
    "        print(f\"Total number of uppercase characters in '{filename}': {uppercase_count}\")\n",
    "    except FileNotFoundError:\n",
    "        print(f\"Error: The file '{filename}' was not found.\")\n",
    "    except IOError:\n",
    "        print(f\"Error: An IOError occurred while trying to read the file '{filename}'.\")\n",
    "\n",
    "# Calling the function \n",
    "count_uppercase_characters(\"ABC.txt\")\n"
   ]
  },
  {
   "cell_type": "code",
   "execution_count": 28,
   "id": "fd89ef4c-ff36-4ddd-b61a-d7f7b06a0a88",
   "metadata": {},
   "outputs": [
    {
     "name": "stdout",
     "output_type": "stream",
     "text": [
      "is\n",
      "the\n",
      "are\n",
      "The\n",
      "fox\n",
      "the\n",
      "are\n",
      "To\n",
      "be\n",
      "or\n",
      "not\n",
      "to\n",
      "be,\n",
      "is\n",
      "the\n",
      "A\n",
      "The\n",
      "is\n"
     ]
    }
   ],
   "source": [
    "#4. Write a function display_words() in python to read lines from a text file \"story.txt\", and display those words, which are less than 4 characters.\n",
    "\n",
    "def display_words(filename):\n",
    "    try:\n",
    "        with open(filename, 'r') as file:\n",
    "            for line in file:\n",
    "                words = line.split()\n",
    "                short_words = [word for word in words if len(word) < 4]\n",
    "                for word in short_words:\n",
    "                    print(word)\n",
    "    except FileNotFoundError:\n",
    "        print(f\"Error: The file '{filename}' was not found.\")\n",
    "    except IOError:\n",
    "        print(f\"Error: An IOError occurred while trying to read the file '{filename}'.\")\n",
    "\n",
    "# Calling the function\n",
    "display_words(\"story.txt\")\n"
   ]
  },
  {
   "cell_type": "code",
   "execution_count": 12,
   "id": "59156066-081e-4dfc-874f-90bb6f962da8",
   "metadata": {},
   "outputs": [],
   "source": [
    "#Assignment:"
   ]
  },
  {
   "cell_type": "code",
   "execution_count": 29,
   "id": "40e63684-14fb-44a1-883e-e438afca8b07",
   "metadata": {},
   "outputs": [
    {
     "name": "stdin",
     "output_type": "stream",
     "text": [
      "Enter the numerator:  34\n",
      "Enter the denominator:  0\n"
     ]
    },
    {
     "name": "stdout",
     "output_type": "stream",
     "text": [
      "Error: Division by zero is not allowed.\n"
     ]
    }
   ],
   "source": [
    "#1. Write a Python program to handle a ZeroDivisionError exception when dividing a number by zero.\n",
    "\n",
    "try:\n",
    "    numerator = float(input(\"Enter the numerator: \"))                #user input\n",
    "    denominator = float(input(\"Enter the denominator: \"))\n",
    "    result = numerator / denominator\n",
    "    print(f\"The result of {numerator} divided by {denominator} is {result:.2f}\")\n",
    "\n",
    "except ZeroDivisionError:\n",
    "    print(\"Error: Division by zero is not allowed.\")\n",
    "except ValueError:\n",
    "    print(\"Error: Invalid input. Please enter numeric values.\")\n",
    "except Exception as e:\n",
    "    print(f\"An unexpected error occurred: {e}\")\n",
    "\n"
   ]
  },
  {
   "cell_type": "code",
   "execution_count": 30,
   "id": "cd0e333d-361c-47a2-9ad4-f1ed216e6e6c",
   "metadata": {},
   "outputs": [
    {
     "name": "stdin",
     "output_type": "stream",
     "text": [
      "Please enter an integer:  23\n"
     ]
    },
    {
     "name": "stdout",
     "output_type": "stream",
     "text": [
      "You entered a valid integer: 23\n"
     ]
    }
   ],
   "source": [
    "#2. Write a Python program that prompts the user to input an integer and raises a ValueError exception if the input is not a valid integer.\n",
    "\n",
    "try:\n",
    "    user_input = input(\"Please enter an integer: \")            #asking user for input\n",
    "    value = int(user_input)                    #converting input to an integer\n",
    "    print(f\"You entered a valid integer: {value}\")\n",
    "\n",
    "except ValueError:\n",
    "    print(\"Error: The input is not a valid integer.\")\n"
   ]
  },
  {
   "cell_type": "code",
   "execution_count": 31,
   "id": "004ec6aa-6300-42f0-acbf-33d324eec7ce",
   "metadata": {},
   "outputs": [
    {
     "name": "stdout",
     "output_type": "stream",
     "text": [
      "Error: The file 'example.txt' was not found.\n"
     ]
    }
   ],
   "source": [
    "#3. Write a Python program that opens a file and handles a FileNotFoundError exception if the file does not exist.\n",
    "\n",
    "filename = \"example.txt\" \n",
    "\n",
    "try:\n",
    "    with open(filename, 'r') as file:               #opening file in read mode\n",
    "        content = file.read()                      # Reading and printing the content of the file\n",
    "        print(\"File content:\")\n",
    "        print(content)\n",
    "except FileNotFoundError:\n",
    "    print(f\"Error: The file '{filename}' was not found.\")\n",
    "except IOError:\n",
    "    print(f\"Error: An IOError occurred while trying to read the file '{filename}'.\")\n"
   ]
  },
  {
   "cell_type": "code",
   "execution_count": 32,
   "id": "4897d650-0766-4e5c-a95f-343d3944774d",
   "metadata": {},
   "outputs": [
    {
     "name": "stdin",
     "output_type": "stream",
     "text": [
      "Please enter the first number:  12\n",
      "Please enter the second number:  df5\n"
     ]
    },
    {
     "name": "stdout",
     "output_type": "stream",
     "text": [
      "Error: Both inputs must be numerical values.\n"
     ]
    }
   ],
   "source": [
    "#4. Write a Python program that prompts the user to input two numbers and raises a TypeError exception if the inputs are not numerical\n",
    "\n",
    "try:\n",
    "    num1 = float(input(\"Please enter the first number: \"))        #user input\n",
    "    num2 = float(input(\"Please enter the second number: \"))\n",
    "    print(f\"The numbers you entered are: {num1} and {num2}\")\n",
    "\n",
    "except ValueError:\n",
    "    print(\"Error: Both inputs must be numerical values.\")\n",
    "except TypeError:\n",
    "    print(\"Error: Invalid type encountered. Both inputs must be numerical.\")\n"
   ]
  }
 ],
 "metadata": {
  "kernelspec": {
   "display_name": "Python 3 (ipykernel)",
   "language": "python",
   "name": "python3"
  },
  "language_info": {
   "codemirror_mode": {
    "name": "ipython",
    "version": 3
   },
   "file_extension": ".py",
   "mimetype": "text/x-python",
   "name": "python",
   "nbconvert_exporter": "python",
   "pygments_lexer": "ipython3",
   "version": "3.12.4"
  }
 },
 "nbformat": 4,
 "nbformat_minor": 5
}
