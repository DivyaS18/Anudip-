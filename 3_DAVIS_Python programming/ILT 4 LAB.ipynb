{
 "cells": [
  {
   "cell_type": "code",
   "execution_count": null,
   "id": "cc9a824e-1772-4d1b-bcfa-f99236b087cc",
   "metadata": {},
   "outputs": [],
   "source": [
    "#ILT-4 Lab - List, Dictionary, Tuples, Set\n",
    "#Assignment:"
   ]
  },
  {
   "cell_type": "code",
   "execution_count": 1,
   "id": "dbc7e883-11bc-4267-a635-14e7ef5b7ae6",
   "metadata": {},
   "outputs": [
    {
     "name": "stdout",
     "output_type": "stream",
     "text": [
      "The sum of all items in the list is: 150\n"
     ]
    }
   ],
   "source": [
    "#1. Write a Python program to sum all the items in a list.\n",
    "\n",
    "numbers = [10, 20, 30, 40, 50]  \n",
    "total_sum = sum(numbers)\n",
    "print(f\"The sum of all items in the list is: {total_sum}\")\n"
   ]
  },
  {
   "cell_type": "code",
   "execution_count": 2,
   "id": "8bd5d2da-d3ed-411b-8ec8-779c940d93e4",
   "metadata": {},
   "outputs": [
    {
     "name": "stdout",
     "output_type": "stream",
     "text": [
      "The largest number in the list is: 99\n",
      "The smallest number in the list is: -10\n"
     ]
    }
   ],
   "source": [
    "#2. Write a Python program to get the largest and smallest number from a list without builtin functions\n",
    "\n",
    "numbers = [10, 20, 4, 45, 99, -10]  \n",
    "if len(numbers) == 0:\n",
    "    raise ValueError(\"The list is empty. Cannot determine the largest and smallest numbers.\")\n",
    "\n",
    "largest = numbers[0]\n",
    "smallest = numbers[0]\n",
    "\n",
    "# Iterating through the list to find the largest and smallest numbers\n",
    "for num in numbers:\n",
    "    if num > largest:\n",
    "        largest = num\n",
    "    if num < smallest:\n",
    "        smallest = num\n",
    "\n",
    "print(f\"The largest number in the list is: {largest}\")\n",
    "print(f\"The smallest number in the list is: {smallest}\")\n"
   ]
  },
  {
   "cell_type": "code",
   "execution_count": 3,
   "id": "947e241f-7045-438a-92cf-60377fb445a4",
   "metadata": {},
   "outputs": [
    {
     "name": "stdout",
     "output_type": "stream",
     "text": [
      "Duplicate values in the list are: [1, 2, 3, 8]\n"
     ]
    }
   ],
   "source": [
    "#3. Write a Python program to find duplicate values from a list and display those.\n",
    "\n",
    "numbers = [1, 2, 3, 4, 5, 2, 3, 6, 7, 8, 8, 9, 1]  \n",
    "\n",
    "seen = set()                # Initializing a set to keep track of seen numbers and a set for duplicates\n",
    "duplicates = set()\n",
    "\n",
    "# Iterating through the list to find duplicates\n",
    "for num in numbers:\n",
    "    if num in seen:\n",
    "        duplicates.add(num)             # If the number is already in seen, it's a duplicate\n",
    "    else:                         \n",
    "        seen.add(num)                       # Otherwise, add the number to seen\n",
    "\n",
    "if duplicates:\n",
    "    print(\"Duplicate values in the list are:\", sorted(duplicates))\n",
    "else:\n",
    "    print(\"No duplicates found.\")\n"
   ]
  },
  {
   "cell_type": "code",
   "execution_count": 4,
   "id": "782846b7-aaea-442a-b002-70632104d5c7",
   "metadata": {},
   "outputs": [
    {
     "name": "stdout",
     "output_type": "stream",
     "text": [
      "Original list:\n",
      "[1, 1, 2, 3, 4, 4, 5, 1]\n",
      "Length of the first part of the list: 3\n",
      "Splitted the said list into two parts:\n",
      "([1, 1, 2], [3, 4, 4, 5, 1])\n"
     ]
    }
   ],
   "source": [
    "#4. Write a Python program to split a given list into two parts where the length of the first part of the list is given.\n",
    "#Original list:\n",
    "#[1, 1, 2, 3, 4, 4, 5, 1]\n",
    "#Length of the first part of the list: 3\n",
    "#Splitted the said list into two parts:\n",
    "#([1, 1, 2], [3, 4, 4, 5, 1])\n",
    "\n",
    "# Define the original list and the length of the first part\n",
    "original_list = [1, 1, 2, 3, 4, 4, 5, 1]\n",
    "length_of_first_part = 3\n",
    "\n",
    "# Split the list into two parts\n",
    "first_part = original_list[:length_of_first_part]\n",
    "second_part = original_list[length_of_first_part:]\n",
    "\n",
    "print(\"Original list:\")\n",
    "print(original_list)\n",
    "print(f\"Length of the first part of the list: {length_of_first_part}\")\n",
    "print(\"Splitted the said list into two parts:\")\n",
    "print((first_part, second_part))\n"
   ]
  },
  {
   "cell_type": "code",
   "execution_count": 5,
   "id": "1a8786ee-f429-44ba-be8f-4189022d99ac",
   "metadata": {},
   "outputs": [
    {
     "name": "stdout",
     "output_type": "stream",
     "text": [
      "Traverse the said list in reverse order:\n",
      "black\n",
      "white\n",
      "green\n",
      "red\n"
     ]
    }
   ],
   "source": [
    "#5. Write a Python program to traverse a given list in reverse order, and print the elements with the original index.\n",
    "#Original list:\n",
    "#['red', 'green', 'white', 'black']\n",
    "#Traverse the said list in reverse order:\n",
    "#black\n",
    "#white\n",
    "#green\n",
    "#red\n",
    "\n",
    "\n",
    "original_list = ['red', 'green', 'white', 'black']\n",
    "\n",
    "# Traverse the list in reverse order and print elements with their original indices\n",
    "print(\"Traverse the said list in reverse order:\")\n",
    "for index in range(len(original_list) - 1, -1, -1):\n",
    "    print(original_list[index])\n",
    "\n"
   ]
  },
  {
   "cell_type": "code",
   "execution_count": null,
   "id": "c9bc429c-46ec-42a1-a48f-dc735932ff51",
   "metadata": {},
   "outputs": [],
   "source": [
    "#Assignment:"
   ]
  },
  {
   "cell_type": "code",
   "execution_count": 6,
   "id": "a5a7297f-7a9d-482f-85ce-9d0478889b4e",
   "metadata": {},
   "outputs": [
    {
     "name": "stdout",
     "output_type": "stream",
     "text": [
      "The mean of the dictionary values is: 6.2\n"
     ]
    }
   ],
   "source": [
    "#1. Write a Python program and calculate the mean of the below dictionary.\n",
    "#test_dict = {\"A\" : 6, \"B\" : 9, \"C\" : 5, \"D\" : 7, \"E\" : 4}\n",
    "#Output: 6.2\n",
    "\n",
    "\n",
    "test_dict = {\"A\" : 6, \"B\" : 9, \"C\" : 5, \"D\" : 7, \"E\" : 4}\n",
    "\n",
    "# Extract the values from the dictionary\n",
    "values = test_dict.values()\n",
    "mean = sum(values) / len(values)              # Calculating the mean\n",
    "\n",
    "print(f\"The mean of the dictionary values is: {mean:.1f}\")\n"
   ]
  },
  {
   "cell_type": "code",
   "execution_count": 7,
   "id": "1b0ca00b-6343-4449-a038-c1f05cb622ab",
   "metadata": {},
   "outputs": [
    {
     "name": "stdout",
     "output_type": "stream",
     "text": [
      "Concatenated dictionary: {1: 10, 2: 20, 3: 30, 4: 40, 5: 50, 6: 60}\n"
     ]
    }
   ],
   "source": [
    "#2.Write a Python script to concatenate the following dictionaries to create a new one.\n",
    "#Sample Dictionary :\n",
    "#dic1={1:10, 2:20}\n",
    "#dic2={3:30, 4:40}\n",
    "#dic3={5:50,6:60}\n",
    "#Expected Result : {1: 10, 2: 20, 3: 30, 4: 40, 5: 50, 6: 60}\n",
    "\n",
    "\n",
    "dic1 = {1: 10, 2: 20}\n",
    "dic2 = {3: 30, 4: 40}\n",
    "dic3 = {5: 50, 6: 60}\n",
    "\n",
    "# Concatenate the dictionaries using dictionary unpacking\n",
    "merged_dict = {**dic1, **dic2, **dic3}\n",
    "\n",
    "print(\"Concatenated dictionary:\", merged_dict)\n",
    "\n"
   ]
  },
  {
   "cell_type": "code",
   "execution_count": 8,
   "id": "3191a428-0a66-47e1-944e-2c5c1a275e29",
   "metadata": {},
   "outputs": [
    {
     "name": "stdout",
     "output_type": "stream",
     "text": [
      "Key\tValue\n",
      "1\t10\n",
      "2\t20\n",
      "3\t30\n",
      "4\t40\n",
      "5\t50\n",
      "6\t60\n"
     ]
    }
   ],
   "source": [
    "#3.Write a Python program to get the key, value and item in a dictionary.\n",
    "#input:dict_num = {1: 10, 2: 20, 3: 30, 4: 40, 5: 50, 6: 60}\n",
    "#Output:\n",
    "#Key \tValue\n",
    "#1\t10\n",
    "#2\t20\n",
    "#3\t30\n",
    "#4\t40\n",
    "#5\t50\n",
    "#6\t60\n",
    "\n",
    "\n",
    "dict_num = {1: 10, 2: 20, 3: 30, 4: 40, 5: 50, 6: 60}\n",
    "print(\"Key\\tValue\")\n",
    "\n",
    "# Iterate over the dictionary and print each key and value\n",
    "for key, value in dict_num.items():\n",
    "    print(f\"{key}\\t{value}\")\n",
    "\n"
   ]
  },
  {
   "cell_type": "code",
   "execution_count": 9,
   "id": "10d07c4f-39d3-47c7-a102-6888d9b6d6bb",
   "metadata": {},
   "outputs": [
    {
     "name": "stdout",
     "output_type": "stream",
     "text": [
      "dict with empty items Dropped :\n",
      "{1: 10, 2: 20, 4: 40, 6: 60}\n"
     ]
    }
   ],
   "source": [
    "#4.Write a Python program to get the key, value and item in a dictionary.\n",
    "#Input: input_dict = {1: 10, 2: 20, 3:None, 4: 40, 5: None, 6: 60}\n",
    "#Output:\n",
    "#dict with empty items Dropped :\n",
    "#{1:10,2:40,4:40,6:60}\n",
    "\n",
    "input_dict = {1: 10, 2: 20, 3: None, 4: 40, 5: None, 6: 60}\n",
    "\n",
    "# Remove key-value pairs with None values\n",
    "filtered_dict = {key: value for key, value in input_dict.items() if value is not None}\n",
    "print(\"dict with empty items Dropped :\")\n",
    "print(filtered_dict)\n"
   ]
  },
  {
   "cell_type": "code",
   "execution_count": 10,
   "id": "f113debd-0044-462d-b61b-ad2f7a1ed749",
   "metadata": {},
   "outputs": [
    {
     "name": "stdout",
     "output_type": "stream",
     "text": [
      "3\n"
     ]
    }
   ],
   "source": [
    "#1. Write a Python program to find the number of times 4 appears in the tuple.\n",
    "#Input:\n",
    "#tuplex = (2, 4, 5, 6, 2, 3, 4, 4, 7 )\n",
    "#Output: 3\n",
    "\n",
    "tuplex = (2, 4, 5, 6, 2, 3, 4, 4, 7)\n",
    "value_to_count = 4             # Defining the value to count\n",
    "count = tuplex.count(value_to_count)          # Counting the occurrences of the value in the tuple\n",
    "print(count)\n"
   ]
  },
  {
   "cell_type": "code",
   "execution_count": 11,
   "id": "46ec6207-1a0b-4f77-af6e-d138201a50f4",
   "metadata": {},
   "outputs": [
    {
     "name": "stdout",
     "output_type": "stream",
     "text": [
      "(5, 10, 7, 4, 15, 3)\n"
     ]
    }
   ],
   "source": [
    "#2.Write a Python program to convert a list to a tuple.\n",
    "#Input: listx = [5, 10, 7, 4, 15, 3]\n",
    "#Output: (5, 10, 7, 4, 15, 3)\n",
    "\n",
    "\n",
    "listx = [5, 10, 7, 4, 15, 3]\n",
    "tuplex = tuple(listx)          # Converting the list to a tuple\n",
    "print(tuplex)\n",
    "\n"
   ]
  },
  {
   "cell_type": "code",
   "execution_count": 12,
   "id": "c034253e-fc1b-4ddd-8d59-e2a7ce8ce577",
   "metadata": {},
   "outputs": [
    {
     "name": "stdout",
     "output_type": "stream",
     "text": [
      "sum of tuple is : 21\n"
     ]
    }
   ],
   "source": [
    "#3. Write a Python program to calculate the sum of the numbers in a given tuple.\n",
    "#Input: tuples_list = [(1, 2), (3, 4), (5, 6)]\n",
    "#Output:\n",
    "#sum of tuple is : 21 \n",
    "\n",
    "tuples_list = [(1, 2), (3, 4), (5, 6)]\n",
    "total_sum = sum(num for tup in tuples_list for num in tup)        # Flattening the list of tuples and calculate the sum\n",
    "print(f\"sum of tuple is : {total_sum}\")\n",
    "\n"
   ]
  },
  {
   "cell_type": "code",
   "execution_count": 13,
   "id": "93eb6d4c-b45f-4467-adda-b700f4039ee9",
   "metadata": {},
   "outputs": [
    {
     "name": "stdout",
     "output_type": "stream",
     "text": [
      "Employee Records:\n",
      "\n",
      "Name : John Doe\n",
      "Employee ID : 101\n",
      "Department : Human Resources\n",
      "Salary : 60000\n",
      "\n",
      "Name : Alice Smith\n",
      "Employee ID : 102\n",
      "Department : Marketing\n",
      "Salary : 55000\n",
      "\n",
      "Name : Bob Johnson\n",
      "Employee ID : 103\n",
      "Department : Engineering\n",
      "Salary : 75000\n",
      "\n"
     ]
    }
   ],
   "source": [
    "#4.Write a python program and iterate the given tuples\n",
    "\n",
    "\n",
    "employee1 = (\"John Doe\", 101, \"Human Resources\", 60000)\n",
    "employee2 = (\"Alice Smith\", 102, \"Marketing\", 55000)\n",
    "employee3 = (\"Bob Johnson\", 103, \"Engineering\", 75000)\n",
    "\n",
    "employees = [employee1, employee2, employee3]\n",
    "print(\"Employee Records:\\n\")\n",
    "\n",
    "# Iterate through each employee tuple and print the details\n",
    "for employee in employees:\n",
    "    name, emp_id, department, salary = employee\n",
    "    print(f\"Name : {name}\")\n",
    "    print(f\"Employee ID : {emp_id}\")\n",
    "    print(f\"Department : {department}\")\n",
    "    print(f\"Salary : {salary}\\n\")\n",
    "\n"
   ]
  },
  {
   "cell_type": "code",
   "execution_count": 14,
   "id": "87bb94da-cd3f-40a2-9f73-3dd6ebef3a92",
   "metadata": {},
   "outputs": [
    {
     "name": "stdout",
     "output_type": "stream",
     "text": [
      "{70, 40, 10, 50, 20, 60, 30}\n"
     ]
    }
   ],
   "source": [
    "#Assignment:\n",
    "#1. Write a Python program to Get Only unique items from two sets.\n",
    "\n",
    "\n",
    "set1 = {10, 20, 30, 40, 50}\n",
    "set2 = {30, 40, 50, 60, 70}\n",
    "\n",
    "# Get the union of the two sets\n",
    "unique_items = set1.union(set2)\n",
    "print(unique_items)\n"
   ]
  },
  {
   "cell_type": "code",
   "execution_count": 16,
   "id": "509668d1-40a0-4a40-a958-28db85b58569",
   "metadata": {},
   "outputs": [
    {
     "name": "stdout",
     "output_type": "stream",
     "text": [
      "{20, 70, 10, 60}\n"
     ]
    }
   ],
   "source": [
    "#2. Write a Python program to Return a set of elements present in Set A or B, but not both.\n",
    "\n",
    "\n",
    "set1 = {10, 20, 30, 40, 50}\n",
    "set2 = {30, 40, 50, 60, 70}\n",
    "\n",
    "# Compute the symmetric difference\n",
    "symmetric_diff = set1.symmetric_difference(set2)\n",
    "print(symmetric_diff)\n",
    "\n"
   ]
  },
  {
   "cell_type": "code",
   "execution_count": 17,
   "id": "243e4542-6e60-4fd5-96cd-31f02eb55358",
   "metadata": {},
   "outputs": [
    {
     "name": "stdout",
     "output_type": "stream",
     "text": [
      "{10}\n"
     ]
    }
   ],
   "source": [
    "#3. Write a Python program to Check if two sets have any elements in common. If yes, display the common elements.\n",
    "\n",
    "\n",
    "set1 = {10, 20, 30, 40, 50}\n",
    "set2 = {60, 70, 80, 90, 10}\n",
    "\n",
    "# Compute the intersection of the two sets\n",
    "common_elements = set1.intersection(set2)\n",
    "\n",
    "# Check if there are any common elements and print them\n",
    "if common_elements:\n",
    "    print(common_elements)\n",
    "else:\n",
    "    print(\"No common elements\")\n"
   ]
  },
  {
   "cell_type": "code",
   "execution_count": 18,
   "id": "f6a1b369-dc15-4da0-a3c0-4437308e6839",
   "metadata": {},
   "outputs": [
    {
     "name": "stdout",
     "output_type": "stream",
     "text": [
      "{40, 50, 30}\n"
     ]
    }
   ],
   "source": [
    "#4. Write a Python program to Remove items from set1 that are not common to both set1 and set2.\n",
    "\n",
    "\n",
    "set1 = {10, 20, 30, 40, 50}\n",
    "set2 = {30, 40, 50, 60, 70}\n",
    "\n",
    "# Compute the intersection of the two sets\n",
    "common_elements = set1.intersection(set2)\n",
    "\n",
    "# Update set1 to keep only the common elements\n",
    "set1 &= common_elements\n",
    "print(set1)\n"
   ]
  }
 ],
 "metadata": {
  "kernelspec": {
   "display_name": "Python 3 (ipykernel)",
   "language": "python",
   "name": "python3"
  },
  "language_info": {
   "codemirror_mode": {
    "name": "ipython",
    "version": 3
   },
   "file_extension": ".py",
   "mimetype": "text/x-python",
   "name": "python",
   "nbconvert_exporter": "python",
   "pygments_lexer": "ipython3",
   "version": "3.12.4"
  }
 },
 "nbformat": 4,
 "nbformat_minor": 5
}
