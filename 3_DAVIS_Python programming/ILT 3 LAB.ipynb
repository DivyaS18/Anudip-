{
 "cells": [
  {
   "cell_type": "code",
   "execution_count": 2,
   "id": "776f5f90-0407-4c3d-a583-2c89044adfad",
   "metadata": {},
   "outputs": [
    {
     "name": "stdout",
     "output_type": "stream",
     "text": [
      "The division of 20 by 2 is: 10.0\n"
     ]
    }
   ],
   "source": [
    "#Q1)Declare a div() function with two parameters. Then call the function and pass two numbers and display their division.\n",
    "\n",
    "def div(a, b):\n",
    "    try:\n",
    "        result = a / b\n",
    "    except ZeroDivisionError:\n",
    "        result = \"Error: Division by zero is not allowed.\"\n",
    "    return result\n",
    "\n",
    "num1 = 20       # Example call to the function\n",
    "num2 = 2\n",
    "print(f\"The division of {num1} by {num2} is: {div(num1, num2)}\")    # Display the division result\n"
   ]
  },
  {
   "cell_type": "code",
   "execution_count": 3,
   "id": "31d2f170-4d4b-4145-aa79-53cf57f491be",
   "metadata": {},
   "outputs": [
    {
     "name": "stdout",
     "output_type": "stream",
     "text": [
      "The square of 10 is: 100\n"
     ]
    }
   ],
   "source": [
    "#Q2)Declare a square() function with one parameter.Then call the function and pass one number and display the square of that number .\n",
    "def square(x):\n",
    "    return x * x\n",
    "\n",
    "num = 10    # Example call to the function\n",
    "print(f\"The square of {num} is: {square(num)}\")       # Display the square of the number\n"
   ]
  },
  {
   "cell_type": "code",
   "execution_count": 4,
   "id": "de9d4655-6d36-4621-b127-fb898e5c604c",
   "metadata": {},
   "outputs": [
    {
     "name": "stdout",
     "output_type": "stream",
     "text": [
      "Random numbers: [47, 38, 54, 65, 43]\n",
      "Maximum number: 65\n",
      "Minimum number: 38\n"
     ]
    }
   ],
   "source": [
    "#Q3)Using max() and min() functions display the maximum and minimum of 5 random numbers.\n",
    "\n",
    "import random\n",
    "numbers = [random.randint(1, 100) for _ in range(5)]    # Generate 5 random numbers\n",
    "\n",
    "max_num = max(numbers)   # Find the maximum number\n",
    "min_num = min(numbers)   # and minimum number\n",
    "\n",
    "print(f\"Random numbers: {numbers}\")    # Displaying the results\n",
    "print(f\"Maximum number: {max_num}\")\n",
    "print(f\"Minimum number: {min_num}\")\n"
   ]
  },
  {
   "cell_type": "code",
   "execution_count": 5,
   "id": "9ec67e74-6f28-4593-af76-217aeee22ef7",
   "metadata": {},
   "outputs": [
    {
     "name": "stdin",
     "output_type": "stream",
     "text": [
      "Please enter your name and we will convert it into lowercase:  DIVYANSHI\n"
     ]
    },
    {
     "name": "stdout",
     "output_type": "stream",
     "text": [
      "Your name in lowercase is: divyanshi\n"
     ]
    }
   ],
   "source": [
    "#Q4)Accept a name from the user and display that in lower case using lower() function\n",
    "name = input(\"Please enter your name and we will convert it into lowercase: \")\n",
    "\n",
    "lowercase_name = name.lower()   # Converting the name to lowercase\n",
    "print(f\"Your name in lowercase is: {lowercase_name}\")    # Display the name in lowercase\n"
   ]
  },
  {
   "cell_type": "code",
   "execution_count": 6,
   "id": "6add86da-8272-45bc-b06d-53e262be0301",
   "metadata": {},
   "outputs": [
    {
     "name": "stdout",
     "output_type": "stream",
     "text": [
      "Displaying the count of each word in a given sentence: \n",
      "'to': 2\n",
      "'change': 2\n",
      "'the': 3\n",
      "'overall': 1\n",
      "'look': 2\n",
      "'of': 1\n",
      "'your': 1\n",
      "'document': 1\n",
      "'available': 1\n",
      "'in': 1\n",
      "'gallery': 1\n"
     ]
    }
   ],
   "source": [
    "#Q1) Write a Python program to count the occurrences of each word in a given sentence\n",
    "\n",
    "from collections import Counter\n",
    "import re\n",
    "\n",
    "def count_word_occurrences(sentence):\n",
    "    sentence = sentence.lower()          # Converting the sentence to lowercase to ensure case insensitivity\n",
    "    words = re.findall(r'\\b\\w+\\b', sentence)        # Removimg punctuation and split the sentence into words\n",
    "    word_counts = Counter(words)            # Counting the occurrences of each word\n",
    "    return word_counts\n",
    "\n",
    "sentence = \"To change the overall look of your document. To change the look available in the gallery\"          # Given input sentence\n",
    "word_counts = count_word_occurrences(sentence)             # Counting the occurrences of each word\n",
    "print(\"Displaying the count of each word in a given sentence: \")\n",
    "for word, count in word_counts.items():               # Displaying the word counts\n",
    "    print(f\"'{word}': {count}\")"
   ]
  },
  {
   "cell_type": "code",
   "execution_count": 7,
   "id": "f8c76d25-4560-4bf3-9348-4682fc8f5715",
   "metadata": {},
   "outputs": [
    {
     "name": "stdout",
     "output_type": "stream",
     "text": [
      "\n",
      "Removing the newline from the given string: \n",
      "Best \n",
      "Deeptech \n",
      "Python \n",
      "Training\n",
      "\n",
      "The cleaned String is: 'Best Deeptech Python Training'\n"
     ]
    }
   ],
   "source": [
    "#Q2)Write a Python program to remove a newline in Python\n",
    "\n",
    "input_string = \"\\nBest \\nDeeptech \\nPython \\nTraining\\n\"      # Given input string\n",
    "cleaned_string = input_string.replace('\\n', '')          # Removing newline characters\n",
    "print(\"\\nRemoving the newline from the given string:\",input_string)\n",
    "print(f\"The cleaned String is: '{cleaned_string}'\")         # Displaying the result\n"
   ]
  },
  {
   "cell_type": "code",
   "execution_count": 8,
   "id": "934b066b-c4dc-4a75-913d-b283413418f7",
   "metadata": {},
   "outputs": [
    {
     "name": "stdout",
     "output_type": "stream",
     "text": [
      "\n",
      "The string to be reversed is:  Deeptech Python Training\n",
      "The reversed words in the string are : Training Python Deeptech\n"
     ]
    }
   ],
   "source": [
    "#Q3)Write a Python program to reverse words in a string\n",
    "\n",
    "def reverse_words(input_string):\n",
    "    words = input_string.split()      # Spliting the string into words\n",
    "    reversed_words = words[::-1]      # Reversing the order of words\n",
    "    return ' '.join(reversed_words)     # Joining the reversed words back into a single string\n",
    "\n",
    "input_string = \"Deeptech Python Training\"     # Given input string\n",
    "reversed_string = reverse_words(input_string)    # Reversing the words in the string\n",
    "print(\"\\nThe string to be reversed is: \",input_string)\n",
    "print(f\"The reversed words in the string are : {reversed_string}\")    # Displaying the result\n"
   ]
  },
  {
   "cell_type": "code",
   "execution_count": 9,
   "id": "5723546d-a6de-4003-a864-fc821c09dbe8",
   "metadata": {},
   "outputs": [
    {
     "name": "stdout",
     "output_type": "stream",
     "text": [
      "\n",
      "Displaying the count of vowels in the given text:  Welcome to python Training\n",
      "'a': 1\n",
      "'e': 2\n",
      "'i': 2\n",
      "'o': 3\n"
     ]
    }
   ],
   "source": [
    "#Q4) Write a Python program to count and display the vowels of a given text\n",
    "\n",
    "def count_and_display_vowels(text):\n",
    "    vowels = \"aeiouAEIOU\"\n",
    "    vowel_count = {v: 0 for v in vowels}  # Initializing a dictionary to keep track of each vowel's count\n",
    "\n",
    "    for char in text:\n",
    "        if char in vowels:\n",
    "            vowel_count[char] += 1\n",
    "\n",
    "    for vowel, count in vowel_count.items():       # Displaying the counts of each vowel\n",
    "        if count > 0:\n",
    "            print(f\"'{vowel}': {count}\")\n",
    "\n",
    "text = \"Welcome to python Training\"          # Given input string\n",
    "print(\"\\nDisplaying the count of vowels in the given text: \",text)\n",
    "count_and_display_vowels(text)         # Count and display the vowels in the string\n"
   ]
  },
  {
   "cell_type": "code",
   "execution_count": 10,
   "id": "c1d8be46-c410-428f-86d8-5ed37631630f",
   "metadata": {},
   "outputs": [
    {
     "name": "stdout",
     "output_type": "stream",
     "text": [
      "Displaying the count of all letters, digits and special symbols from the string 'P@#yn26at^&i5ve'\n",
      "Chars = 8\n",
      "Digits = 3\n",
      "Symbols = 4\n",
      "\n"
     ]
    }
   ],
   "source": [
    "#Q1) Write a Python program to Count all letters, digits, and special symbols from the given string\n",
    "\n",
    "def count_characters(input_string):\n",
    "    letters = 0\n",
    "    digits = 0\n",
    "    symbols = 0\n",
    "\n",
    "    for char in input_string:\n",
    "        if char.isalpha():\n",
    "            letters += 1\n",
    "        elif char.isdigit():\n",
    "            digits += 1\n",
    "        elif not char.isspace():  # Counts anything that is not a space as a symbol\n",
    "            symbols += 1\n",
    "\n",
    "    return letters, digits, symbols\n",
    "\n",
    "input_string = \"P@#yn26at^&i5ve\"      # Given input string\n",
    "chars, digits, symbols = count_characters(input_string)       # Count the characters\n",
    "\n",
    "print(\"Displaying the count of all letters, digits and special symbols from the string 'P@#yn26at^&i5ve'\")    # Displaying the results\n",
    "print(f\"Chars = {chars}\")       \n",
    "print(f\"Digits = {digits}\")\n",
    "print(f\"Symbols = {symbols}\\n\")\n"
   ]
  },
  {
   "cell_type": "code",
   "execution_count": 11,
   "id": "398e447b-64fc-4dbf-b61d-e8a368ababd5",
   "metadata": {},
   "outputs": [
    {
     "name": "stdout",
     "output_type": "stream",
     "text": [
      "Removing duplicate words from the string 'String and String Function'\n",
      "Output: String and Function\n"
     ]
    }
   ],
   "source": [
    "#Q2) Write a Python program to remove duplicate characters of a given string.\n",
    "\n",
    "def remove_duplicate_words(input_string):\n",
    "    words = input_string.split()  # Splitting the input string into words\n",
    "    seen = set()  # To keep track of seen words\n",
    "    result = []  # To store the processed words\n",
    "\n",
    "    for word in words:\n",
    "        if word not in seen:\n",
    "            seen.add(word)  # Adds word to the set\n",
    "            result.append(word)  # Adds word to the result list\n",
    "\n",
    "    return ' '.join(result)  # Joining the processed words back into a single string\n",
    "\n",
    "input_string = \"String and String Function\"  # Given input string\n",
    "output_string = remove_duplicate_words(input_string)  # Removing duplicate words\n",
    "print(\"Removing duplicate words from the string 'String and String Function'\")\n",
    "print(f\"Output: {output_string}\")  # Displaying the output string\n"
   ]
  },
  {
   "cell_type": "code",
   "execution_count": 12,
   "id": "4b93565a-700b-404a-bc2b-b61e1d0c5ce9",
   "metadata": {},
   "outputs": [
    {
     "name": "stdout",
     "output_type": "stream",
     "text": [
      "\n",
      "Displaying the count of Uppercase, Lowercase, special character and numeric values in the string 'Hell0 W0rld ! 123 * # welcome to pYtHoN'\n",
      "UpperCase : 5\n",
      "LowerCase : 18\n",
      "NumberCase : 5\n",
      "SpecialCase : 11\n"
     ]
    }
   ],
   "source": [
    "#Q3) Write a Python program to count Uppercase, Lowercase, special character and numeric values in a given string\n",
    "\n",
    "input_string = \"Hell0 W0rld ! 123 * # welcome to pYtHoN\"   # Given input string\n",
    "\n",
    "uppercase_count = 0        # Initializing counters\n",
    "lowercase_count = 0\n",
    "numeric_count = 0\n",
    "special_count = 0\n",
    "\n",
    "for char in input_string:              # Iterate through each character in the string\n",
    "    if char.isupper():\n",
    "        uppercase_count += 1\n",
    "    elif char.islower():\n",
    "        lowercase_count += 1\n",
    "    elif char.isdigit():\n",
    "        numeric_count += 1\n",
    "    elif not char.isalpha():  # Consider anything that is not a letter (including spaces) as special\n",
    "        special_count += 1\n",
    "\n",
    "print(\"\\nDisplaying the count of Uppercase, Lowercase, special character and numeric values in the string 'Hell0 W0rld ! 123 * # welcome to pYtHoN'\") \n",
    "print(f\"UpperCase : {uppercase_count}\")        # Displaying the counts\n",
    "print(f\"LowerCase : {lowercase_count}\")\n",
    "print(f\"NumberCase : {numeric_count}\")\n",
    "print(f\"SpecialCase : {special_count}\")"
   ]
  },
  {
   "cell_type": "code",
   "execution_count": 13,
   "id": "2dbf5f9f-02b0-4fbe-81bd-7dbe5975d19c",
   "metadata": {},
   "outputs": [
    {
     "name": "stdout",
     "output_type": "stream",
     "text": [
      "\n",
      "Displaying the count of vowels in the string 'Welcome to Python Assignment'\n",
      "Total vowels are: 8\n"
     ]
    }
   ],
   "source": [
    "#Q4) Write a Python Count vowels in a string\n",
    "\n",
    "input_string = \"Welcome to Python Assignment\"       # Given input string\n",
    "vowels = \"aeiouAEIOU\"       # Defining the vowels\n",
    "vowel_count = 0     # Initializing the vowel count\n",
    "\n",
    "for char in input_string:                    # Iterating through each character in the string\n",
    "    if char in vowels:\n",
    "        vowel_count += 1\n",
    "\n",
    "print(\"\\nDisplaying the count of vowels in the string 'Welcome to Python Assignment'\")\n",
    "print(f\"Total vowels are: {vowel_count}\")    # Displaying the count of vowels\n"
   ]
  }
 ],
 "metadata": {
  "kernelspec": {
   "display_name": "Python 3 (ipykernel)",
   "language": "python",
   "name": "python3"
  },
  "language_info": {
   "codemirror_mode": {
    "name": "ipython",
    "version": 3
   },
   "file_extension": ".py",
   "mimetype": "text/x-python",
   "name": "python",
   "nbconvert_exporter": "python",
   "pygments_lexer": "ipython3",
   "version": "3.12.4"
  }
 },
 "nbformat": 4,
 "nbformat_minor": 5
}
