{
 "cells": [
  {
   "cell_type": "code",
   "execution_count": 27,
   "id": "a914dabd-92bb-438d-83b2-3b286d5a6cde",
   "metadata": {},
   "outputs": [
    {
     "name": "stdin",
     "output_type": "stream",
     "text": [
      "Enter a year:  2067\n"
     ]
    },
    {
     "name": "stdout",
     "output_type": "stream",
     "text": [
      "2067 is not a leap year.\n"
     ]
    }
   ],
   "source": [
    "#Python program to check leap year\n",
    "\n",
    "#taking input from the user\n",
    "year = int(input(\"Enter a year: \"))\n",
    "\n",
    "#Checking if the year is a leap year using control statements\n",
    "if year % 400 == 0:\n",
    "    print(f\"{year} is a leap year.\")\n",
    "elif year % 100 == 0:\n",
    "    print(f\"{year} is not a leap year.\")\n",
    "elif year % 4 == 0:\n",
    "    print(f\"{year} is a leap year.\")\n",
    "else:\n",
    "    print(f\"{year} is not a leap year.\")\n"
   ]
  },
  {
   "cell_type": "code",
   "execution_count": 28,
   "id": "39023752-0ece-4868-8637-3ddfcd77d2ce",
   "metadata": {},
   "outputs": [
    {
     "name": "stdin",
     "output_type": "stream",
     "text": [
      "Enter the first number:  34\n",
      "Enter the second number:  89\n",
      "Enter the third number:  12\n"
     ]
    },
    {
     "name": "stdout",
     "output_type": "stream",
     "text": [
      "The largest number is: 89.0\n"
     ]
    }
   ],
   "source": [
    "#Python Program to Find the Largest Among Three Numbers\n",
    "\n",
    "#Taking input from user\n",
    "num1 = float(input(\"Enter the first number: \"))\n",
    "num2 = float(input(\"Enter the second number: \"))\n",
    "num3 = float(input(\"Enter the third number: \"))\n",
    "\n",
    "#Finding the largest number \n",
    "if (num1 >= num2) and (num1 >= num3):\n",
    "    largest = num1\n",
    "elif (num2 >= num1) and (num2 >= num3):\n",
    "    largest = num2\n",
    "else:\n",
    "    largest = num3\n",
    "\n",
    "print(f\"The largest number is: {largest}\")\n"
   ]
  },
  {
   "cell_type": "code",
   "execution_count": 29,
   "id": "0d783223-0d44-4303-b9b7-fefe005dfdcd",
   "metadata": {},
   "outputs": [
    {
     "name": "stdin",
     "output_type": "stream",
     "text": [
      "Enter a number:  -4\n"
     ]
    },
    {
     "name": "stdout",
     "output_type": "stream",
     "text": [
      "The number -4.0 is negative.\n"
     ]
    }
   ],
   "source": [
    "#Python Program to Check if a Number is Positive, Negative or 0\n",
    "\n",
    "#taking input from the user\n",
    "number = float(input(\"Enter a number: \"))\n",
    "\n",
    "# Checking if the number is positive, negative, or zero\n",
    "if number > 0:\n",
    "    print(f\"The number {number} is positive.\")\n",
    "elif number < 0:\n",
    "    print(f\"The number {number} is negative.\")\n",
    "else:\n",
    "    print(f\"The number {number} is zero.\")\n"
   ]
  },
  {
   "cell_type": "code",
   "execution_count": 32,
   "id": "fef84b19-bb3d-4327-a951-8ce1ac10ced2",
   "metadata": {},
   "outputs": [
    {
     "name": "stdin",
     "output_type": "stream",
     "text": [
      "Enter the product code (1 for Battery Based Toys, 2 for Key-based Toys, 3 for Electrical Charging Based Toys):  2\n",
      "Enter the order amount:  500\n"
     ]
    },
    {
     "name": "stdout",
     "output_type": "stream",
     "text": [
      "The net amount to be paid after discount is: Rs. 475.00\n"
     ]
    }
   ],
   "source": [
    "#A toy vendor supplies three types of toys: Battery Based Toys, Key-based Toys, and Electrical Charging Based Toys. The vendor gives a discount of\n",
    "#10% on orders for battery-based toys if the order is for more than Rs. 1000. On orders of more than Rs. 100 for key-based toys, a discount of 5% is\n",
    "#given, and a discount of 10% is given on orders for electrical charging based toys of value more than Rs. 500. Assume that the numeric codes 1,2 and 3\n",
    "#are used for battery based toys, key-based toys, and electrical charging based toys respectively. Write a program that reads the product code and the \n",
    "#order amount and prints out the net amount that the customer is required to pay after the discount.\n",
    "\n",
    "#Defining discount rates\n",
    "battery_based_discount = 0.10  \n",
    "key_based_discount = 0.05      \n",
    "electrical_charging_discount = 0.10  \n",
    "\n",
    "#Input product code and order amount from the user\n",
    "product_code = int(input(\"Enter the product code (1 for Battery Based Toys, 2 for Key-based Toys, 3 for Electrical Charging Based Toys): \"))\n",
    "order_amount = float(input(\"Enter the order amount: \"))\n",
    "\n",
    "# Initializing discount\n",
    "discount = 0\n",
    "\n",
    "# Applying discount based on product code and order amount\n",
    "if product_code == 1:\n",
    "    if order_amount > 1000:                  # Battery Based Toys\n",
    "        discount = battery_based_discount\n",
    "elif product_code == 2:\n",
    "    if order_amount > 100:                       # Key-based Toys\n",
    "        discount = key_based_discount\n",
    "elif product_code == 3:\n",
    "    if order_amount > 500:                        # Electrical Charging Based Toys\n",
    "        discount = electrical_charging_discount\n",
    "else:\n",
    "    print(\"Invalid product code. Please enter 1, 2, or 3.\")\n",
    "    exit()\n",
    "\n",
    "# Calculating final amount after applying discount\n",
    "discount_amount = order_amount * discount\n",
    "final_amount = order_amount - discount_amount\n",
    "\n",
    "print(f\"The net amount to be paid after discount is: Rs. {final_amount:.2f}\")\n"
   ]
  },
  {
   "cell_type": "code",
   "execution_count": 33,
   "id": "2712b7ed-f4cf-46de-886a-e4425b0ac9d5",
   "metadata": {},
   "outputs": [
    {
     "name": "stdin",
     "output_type": "stream",
     "text": [
      "Enter the distance traveled in kilometers:  34\n"
     ]
    },
    {
     "name": "stdout",
     "output_type": "stream",
     "text": [
      "The fare for 34.0 kilometers is Rs. 272.00\n"
     ]
    }
   ],
   "source": [
    "# A transport company charges the fare according to following table:\n",
    "#Distance Charges\n",
    "#1-50 8 Rs./Km\n",
    "#51-100 10 Rs./Km\n",
    "#> 100 12 Rs/Km\n",
    "\n",
    "# Taking input for the distance traveled\n",
    "distance = float(input(\"Enter the distance traveled in kilometers: \"))\n",
    "\n",
    "# Calculating fare based on distance\n",
    "if distance <= 50:\n",
    "    fare = distance * 8\n",
    "elif distance <= 100:\n",
    "    fare = distance * 10\n",
    "else:\n",
    "    fare = distance * 12\n",
    "\n",
    "print(f\"The fare for {distance} kilometers is Rs. {fare:.2f}\")\n"
   ]
  },
  {
   "cell_type": "code",
   "execution_count": 34,
   "id": "0f93daa5-61f4-43c0-a143-48f19413ab1f",
   "metadata": {},
   "outputs": [
    {
     "name": "stdin",
     "output_type": "stream",
     "text": [
      "Enter a number:  35796\n"
     ]
    },
    {
     "name": "stdout",
     "output_type": "stream",
     "text": [
      "The reversed number of 35796 is 69753.\n"
     ]
    }
   ],
   "source": [
    "#Write a python program to reverse a number using a while loop\n",
    "\n",
    "# Taking input from the user\n",
    "number = int(input(\"Enter a number: \"))\n",
    "\n",
    "# Initializing variables\n",
    "reversed_number = 0\n",
    "original_number = number  # Storing the original number\n",
    "\n",
    "# Reversing the number using a while loop\n",
    "while number > 0:\n",
    "    last_digit = number % 10               # Extract the last digit\n",
    "    reversed_number = (reversed_number * 10) + last_digit            # Build the reversed number\n",
    "    number = number // 10                 # Remove the last digit from the number\n",
    "\n",
    "print(f\"The reversed number of {original_number} is {reversed_number}.\")\n"
   ]
  },
  {
   "cell_type": "code",
   "execution_count": 35,
   "id": "9165bc60-609f-42c8-b98a-a2d465c971e1",
   "metadata": {},
   "outputs": [
    {
     "name": "stdin",
     "output_type": "stream",
     "text": [
      "Enter a number:  88\n"
     ]
    },
    {
     "name": "stdout",
     "output_type": "stream",
     "text": [
      "88 is a palindrome.\n"
     ]
    }
   ],
   "source": [
    "#Write a python program to check whether a number is palindrome or not?\n",
    "\n",
    "# Taking input from the user\n",
    "number = int(input(\"Enter a number: \"))\n",
    "\n",
    "# Initializing variables\n",
    "original_number = number\n",
    "reversed_number = 0\n",
    "\n",
    "# Reversing the number using a while loop\n",
    "while number > 0:\n",
    "    last_digit = number % 10\n",
    "    reversed_number = (reversed_number * 10) + last_digit\n",
    "    number = number // 10\n",
    "\n",
    "# Checking if the original number is equal to the reversed number\n",
    "if original_number == reversed_number:\n",
    "    print(f\"{original_number} is a palindrome.\")\n",
    "else:\n",
    "    print(f\"{original_number} is not a palindrome.\")\n"
   ]
  },
  {
   "cell_type": "code",
   "execution_count": 36,
   "id": "ac6a3cd0-e63e-4d63-9770-1d7837e8c22a",
   "metadata": {},
   "outputs": [
    {
     "name": "stdin",
     "output_type": "stream",
     "text": [
      "Enter a positive integer:  10\n"
     ]
    },
    {
     "name": "stdout",
     "output_type": "stream",
     "text": [
      "The factorial of 10 is 3628800.\n"
     ]
    }
   ],
   "source": [
    "#Write a python program finding the factorial of a given number using a while loop.\n",
    "\n",
    "# Taking input from the user\n",
    "number = int(input(\"Enter a positive integer: \"))\n",
    "\n",
    "# Initializing variables\n",
    "factorial = 1\n",
    "original_number = number\n",
    "\n",
    "# Computing factorial using a while loop\n",
    "while number > 1:\n",
    "    factorial *= number\n",
    "    number -= 1\n",
    "\n",
    "print(f\"The factorial of {original_number} is {factorial}.\")\n"
   ]
  },
  {
   "cell_type": "code",
   "execution_count": 37,
   "id": "aed48d23-b752-4fb3-9e92-8629d553f024",
   "metadata": {},
   "outputs": [
    {
     "name": "stdin",
     "output_type": "stream",
     "text": [
      "Enter a number (0 to stop):  7\n",
      "Enter a number (0 to stop):  23\n",
      "Enter a number (0 to stop):  5\n",
      "Enter a number (0 to stop):  12\n",
      "Enter a number (0 to stop):  66\n",
      "Enter a number (0 to stop):  0\n"
     ]
    },
    {
     "name": "stdout",
     "output_type": "stream",
     "text": [
      "The sum of all numbers is: 113.00\n"
     ]
    }
   ],
   "source": [
    "#Accept numbers using input() function until the user enters 0. If user input 0 then break the while loop and display the sum of all the numbers.\n",
    "\n",
    "# Initializing the sum variable\n",
    "total_sum = 0\n",
    "\n",
    "# Loop to accept numbers until 0 is entered\n",
    "while True:\n",
    "    number = float(input(\"Enter a number (0 to stop): \"))            # Taking input from the user\n",
    "    if number == 0:                       # Checking if the number is 0\n",
    "        break\n",
    "    total_sum += number             # Adding the number to the total sum\n",
    "\n",
    "print(f\"The sum of all numbers is: {total_sum:.2f}\")\n"
   ]
  },
  {
   "cell_type": "code",
   "execution_count": 18,
   "id": "1164e709-35e7-440e-8b81-a69e3fdc560b",
   "metadata": {},
   "outputs": [
    {
     "name": "stdout",
     "output_type": "stream",
     "text": [
      "1 2 3 4 5 6 7 8 9 10 "
     ]
    }
   ],
   "source": [
    "#Print the first 10 natural numbers using for loop\n",
    "for number in range(1, 11):\n",
    "    print(number, end=\" \")\n"
   ]
  },
  {
   "cell_type": "code",
   "execution_count": 38,
   "id": "c1a6a3e0-d190-4d2d-aa2d-d202ade6c3ab",
   "metadata": {},
   "outputs": [
    {
     "name": "stdin",
     "output_type": "stream",
     "text": [
      "Enter a string:  this is a cat\n"
     ]
    },
    {
     "name": "stdout",
     "output_type": "stream",
     "text": [
      "\"this is a cat\" is not a palindrome.\n"
     ]
    }
   ],
   "source": [
    "#Python program to check if the given string is a palindrome\n",
    "\n",
    "# Taking input from the user\n",
    "user_input = input(\"Enter a string: \")\n",
    "\n",
    "# Normalizing the string(removing spaces and convert to lowercase)\n",
    "normalized_input = user_input.replace(\" \", \"\").lower()\n",
    "\n",
    "# Checking if the normalized string is equal to its reverse\n",
    "is_palindrome = normalized_input == normalized_input[::-1]\n",
    "\n",
    "if is_palindrome:\n",
    "    print(f'\"{user_input}\" is a palindrome.')\n",
    "else:\n",
    "    print(f'\"{user_input}\" is not a palindrome.')\n"
   ]
  },
  {
   "cell_type": "code",
   "execution_count": 39,
   "id": "76ceafc3-5df0-4153-af12-0b59759714f3",
   "metadata": {},
   "outputs": [
    {
     "name": "stdin",
     "output_type": "stream",
     "text": [
      "Enter a number:  33\n"
     ]
    },
    {
     "name": "stdout",
     "output_type": "stream",
     "text": [
      "33 is not an Armstrong number.\n"
     ]
    }
   ],
   "source": [
    "#Python program to check if a given number is an Armstrong number\n",
    "\n",
    "# Taking input from the user\n",
    "number = int(input(\"Enter a number: \"))\n",
    "\n",
    "# Converting the number to a string to iterate through each digit\n",
    "number_str = str(number)\n",
    "\n",
    "# Calculating the number of digits\n",
    "num_digits = len(number_str)\n",
    "\n",
    "# Initializing the sum of the digits raised to the power of num_digits\n",
    "sum_of_powers = 0\n",
    "\n",
    "# Calculating the sum of each digit raised to the power of num_digits\n",
    "for digit in number_str:\n",
    "    sum_of_powers += int(digit) ** num_digits\n",
    "\n",
    "# Checking if the sum of powers is equal to the original number\n",
    "if sum_of_powers == number:\n",
    "    print(f\"{number} is an Armstrong number.\")\n",
    "else:\n",
    "    print(f\"{number} is not an Armstrong number.\")\n"
   ]
  },
  {
   "cell_type": "code",
   "execution_count": 40,
   "id": "4d52bdfe-15fd-4b49-887b-ca253ccaf3d4",
   "metadata": {},
   "outputs": [
    {
     "name": "stdout",
     "output_type": "stream",
     "text": [
      "Fibonacci series between 0 and 50:\n",
      "0 1 1 2 3 5 8 13 21 34 "
     ]
    }
   ],
   "source": [
    "#Python program to get the Fibonacci series between 0 to 50\n",
    "\n",
    "# Initializing the first two numbers of the Fibonacci sequence\n",
    "a, b = 0, 1\n",
    "print(\"Fibonacci series between 0 and 50:\")            # Printing the Fibonacci series between 0 and 50\n",
    "\n",
    "# Loop to generate Fibonacci numbers\n",
    "while a <= 50:\n",
    "    print(a, end=\" \")\n",
    "    a, b = b, a + b            # Updating the numbers\n"
   ]
  },
  {
   "cell_type": "code",
   "execution_count": 41,
   "id": "afcb3ce2-f1af-4843-bba3-2e548e85cd35",
   "metadata": {},
   "outputs": [
    {
     "name": "stdin",
     "output_type": "stream",
     "text": [
      "Enter your password:  Divya@12\n"
     ]
    },
    {
     "name": "stdout",
     "output_type": "stream",
     "text": [
      "Password is valid.\n"
     ]
    }
   ],
   "source": [
    "#Python program to check the validity of password input by users\n",
    "\n",
    "# Taking input from the user\n",
    "password = input(\"Enter your password: \")\n",
    "\n",
    "# Defining special characters\n",
    "special_characters = \"!@#$%^&*(),.?\\\":{}|<>\"\n",
    "\n",
    "# Initializing flags\n",
    "has_uppercase = False\n",
    "has_lowercase = False\n",
    "has_digit = False\n",
    "has_special = False\n",
    "\n",
    "# Checking the minimum length\n",
    "if len(password) < 8:\n",
    "    print(\"Password is invalid. Make sure it meets all the criteria.\")\n",
    "else:\n",
    "    # Checking each character in the password\n",
    "    for char in password:\n",
    "        if char.isupper():\n",
    "            has_uppercase = True\n",
    "        elif char.islower():\n",
    "            has_lowercase = True\n",
    "        elif char.isdigit():\n",
    "            has_digit = True\n",
    "        elif char in special_characters:\n",
    "            has_special = True\n",
    "    \n",
    "    # Checking if all criteria are met\n",
    "    if has_uppercase and has_lowercase and has_digit and has_special:\n",
    "        print(\"Password is valid.\")\n",
    "    else:\n",
    "        print(\"Password is invalid. Make sure it meets all the criteria.\")\n"
   ]
  }
 ],
 "metadata": {
  "kernelspec": {
   "display_name": "Python 3 (ipykernel)",
   "language": "python",
   "name": "python3"
  },
  "language_info": {
   "codemirror_mode": {
    "name": "ipython",
    "version": 3
   },
   "file_extension": ".py",
   "mimetype": "text/x-python",
   "name": "python",
   "nbconvert_exporter": "python",
   "pygments_lexer": "ipython3",
   "version": "3.12.4"
  }
 },
 "nbformat": 4,
 "nbformat_minor": 5
}
