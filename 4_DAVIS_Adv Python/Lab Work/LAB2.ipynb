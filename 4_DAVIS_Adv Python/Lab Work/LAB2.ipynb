{
 "cells": [
  {
   "cell_type": "code",
   "execution_count": 2,
   "id": "f0b799d4-50ff-4d8e-a13b-e146d67f9e26",
   "metadata": {},
   "outputs": [
    {
     "name": "stdout",
     "output_type": "stream",
     "text": [
      "Hot Days:\n",
      "Day     Temperature(C)\n",
      "3       36.8\n",
      "6       38.7\n",
      "10      37.2\n",
      "\n",
      "Cold Days:\n",
      "Day     Temperature(C)\n",
      "11      4.0\n",
      "14      -4.0\n",
      "15      -12.0\n"
     ]
    }
   ],
   "source": [
    "#Suppose you have a dataset containing daily temperature readings for a city, and you want to identify days with extreme temperature conditions. \n",
    "#Find days where the temperature either exceeded 35 degrees Celsius (hot day) or dropped below 5 degrees Celsius (cold day).\n",
    "\n",
    "import numpy as np\n",
    "temperatures = np.array([32.5, 34.2, 36.8, 29.3, 31.0, 38.7, 23.1, 18.5, 22.8, 37.2, 4.0, 22.6, 15.7, -4.0, -12.0])\n",
    "\n",
    "# Find hot days (temperatures > 35 degrees Celsius)\n",
    "hot_days = np.where(temperatures > 35)[0] + 1  # Adding 1 to convert 0-based index to 1-based day\n",
    "hot_temperatures = temperatures[temperatures > 35]\n",
    "\n",
    "# Find cold days (temperatures < 5 degrees Celsius)\n",
    "cold_days = np.where(temperatures < 5)[0] + 1  # Adding 1 to convert 0-based index to 1-based day\n",
    "cold_temperatures = temperatures[temperatures < 5]\n",
    "\n",
    "print(\"Hot Days:\")\n",
    "print(\"Day     Temperature(C)\")\n",
    "for day, temp in zip(hot_days, hot_temperatures):             #Iterating through hot days\n",
    "    print(f\"{day:<7} {temp:.1f}\")\n",
    "\n",
    "print(\"\\nCold Days:\")\n",
    "print(\"Day     Temperature(C)\")\n",
    "for day, temp in zip(cold_days, cold_temperatures):                  #Iterating through cold days\n",
    "    print(f\"{day:<7} {temp:.1f}\")\n"
   ]
  },
  {
   "cell_type": "code",
   "execution_count": 3,
   "id": "bb0b2b70-685f-490c-bc0b-976561d21a5a",
   "metadata": {},
   "outputs": [
    {
     "name": "stdout",
     "output_type": "stream",
     "text": [
      "Quarter 1 sales(in thousands of dollars):\n",
      "[120 135 148]\n",
      "Quarter 2 sales(in thousands of dollars):\n",
      "[165 180 155]\n",
      "Quarter 3 sales(in thousands of dollars):\n",
      "[168 190 205]\n",
      "Quarter 4 sales(in thousands of dollars):\n",
      "[198 210 225]\n"
     ]
    }
   ],
   "source": [
    "#suppose you have a dataset containing monthly sales data for a company, and you want to split this data into quaterly reports for analysis and \n",
    "#reporting purposes\n",
    "\n",
    "monthly_sales=np.array([120,135,148,165,180,155,168,190,205,198,210,225])\n",
    "sub_arrays=np.split(monthly_sales,4)              #splitting into 4 equal parts\n",
    "i=1\n",
    "for sub_arr in sub_arrays:\n",
    "    print(\"Quarter\", i, \"sales(in thousands of dollars):\")\n",
    "    print(sub_arr)\n",
    "    i=i+1"
   ]
  },
  {
   "cell_type": "code",
   "execution_count": 4,
   "id": "2fc44d32-f766-4d82-9984-f6c2b4cbcdee",
   "metadata": {},
   "outputs": [
    {
     "name": "stdout",
     "output_type": "stream",
     "text": [
      "Active Customers (Last Purchase <= 30 days ago): \n",
      "[101 102 103 104 105]\n",
      "Inactive Customers (Last Purchase > 30 days ago): \n",
      "[106 107 108 109 110]\n"
     ]
    }
   ],
   "source": [
    "#Suppose you have a dataset cpontaining customer data, and you want to split this data into 2 groups: one group for customers who made a purchase in \n",
    "#the last 30 days and another group for customers who haven't made a purchase in the last 30 days\n",
    "\n",
    "customer_ids=np.array([101,102,103,104,105,106,107,108,109,110])\n",
    "last_purchase_days_ago=np.array([5,15,20,25,30,35,40,45,50,55])\n",
    "purchased_last_30_days = customer_ids[last_purchase_days_ago <= 30]\n",
    "not_purchased_last_30_days = customer_ids[last_purchase_days_ago > 30]\n",
    "print(\"Active Customers (Last Purchase <= 30 days ago): \")\n",
    "print(purchased_last_30_days)\n",
    "\n",
    "print(\"Inactive Customers (Last Purchase > 30 days ago): \")\n",
    "print(not_purchased_last_30_days)"
   ]
  },
  {
   "cell_type": "code",
   "execution_count": 5,
   "id": "13ae7f11-7f87-4190-8dde-e3387d3199eb",
   "metadata": {},
   "outputs": [
    {
     "name": "stdout",
     "output_type": "stream",
     "text": [
      "Combined Employee Data: \n",
      "Employee ID: 101, Name: John Doe, Type: Full-Time, Salary: 55000\n",
      "Employee ID: 102, Name: Jane Smith, Type: Full-Time, Salary: 60000\n",
      "Employee ID: 103, Name: Mike Johnson, Type: Full-Time, Salary: 52000\n",
      "Employee ID: 201, Name: Alice Brown, Type: Part-Time, Salary: 25000\n",
      "Employee ID: 202, Name: Bob Wilson, Type: Part-Time, Salary: 28000\n",
      "Employee ID: 203, Name: Emily Davis, Type: Part-Time, Salary: 22000\n"
     ]
    }
   ],
   "source": [
    "#Suppose you have two sets of employee data—one containing information about full-time employees and another containing information about\n",
    "#part-time employees. You want to combine this data to create a comprehensive employee dataset for HR analysis.\n",
    "\n",
    "\n",
    "# Employee data for full-time employees\n",
    "full_time_employees = np.array([\n",
    "[101, 'John Doe', 'Full-Time', 55000],\n",
    "[102, 'Jane Smith', 'Full-Time', 60000],\n",
    "[103, 'Mike Johnson', 'Full-Time', 52000]\n",
    "])\n",
    "\n",
    "# Employee data for part-time employees\n",
    "part_time_employees = np.array([\n",
    "[201, 'Alice Brown', 'Part-Time', 25000],\n",
    "[202, 'Bob Wilson', 'Part-Time', 28000],\n",
    "[203, 'Emily Davis', 'Part-Time', 22000]\n",
    "])\n",
    "result=np.vstack((full_time_employees,part_time_employees))\n",
    "print(\"Combined Employee Data: \")\n",
    "for employee in result:\n",
    "    emp_id, name, emp_type, salary = employee\n",
    "    print(f\"Employee ID: {emp_id}, Name: {name}, Type: {emp_type}, Salary: {salary}\")"
   ]
  },
  {
   "cell_type": "code",
   "execution_count": 6,
   "id": "e49f8ee4-303b-4d83-a739-bd1c4e1cb9df",
   "metadata": {},
   "outputs": [
    {
     "name": "stdout",
     "output_type": "stream",
     "text": [
      "Mean of each array:\n",
      "[5.5, 30.6, 34.0]\n"
     ]
    }
   ],
   "source": [
    "# How to find the mean of every NumPy array in the given list?\n",
    "\n",
    "list = [\n",
    "np.array([3, 2, 8, 9]),\n",
    "np.array([4, 12, 34, 25, 78]),\n",
    "np.array([23, 12, 67])\n",
    "]\n",
    "means = [float(np.mean(arr)) for arr in list]\n",
    "print(f\"Mean of each array:\\n{means}\")"
   ]
  },
  {
   "cell_type": "code",
   "execution_count": 7,
   "id": "f126e1e4-fb27-4348-b205-a9c65fe9f711",
   "metadata": {},
   "outputs": [
    {
     "name": "stdout",
     "output_type": "stream",
     "text": [
      "Printing the original array:\n",
      "[1 2 3 4 5 6 7]\n",
      "Median of the array that contains odd no of elements:\n",
      "4.0\n"
     ]
    }
   ],
   "source": [
    "#Compute the median of the flattened NumPy array\n",
    "\n",
    "x_odd = np.array([1, 2, 3, 4, 5, 6, 7])\n",
    "print(\"Printing the original array:\")\n",
    "print(x_odd)\n",
    "print(\"Median of the array that contains odd no of elements:\")\n",
    "median_x = np.median(x_odd)\n",
    "print(median_x)"
   ]
  },
  {
   "cell_type": "code",
   "execution_count": 8,
   "id": "6d0b61bf-19d0-4835-8fe6-a18be59a82f5",
   "metadata": {},
   "outputs": [
    {
     "name": "stdout",
     "output_type": "stream",
     "text": [
      "arr: [20, 2, 7, 1, 34]\n",
      "std of arr:  12.576167937809991\n",
      "\n",
      "More precision with float32\n",
      "std of arr:  12.576168\n",
      "\n",
      "More accuracy with float64\n",
      "std of arr:  12.576167937809991\n"
     ]
    }
   ],
   "source": [
    "#Compute the standard deviation of the NumPy array\n",
    "\n",
    "arr = [20, 2, 7, 1, 34]\n",
    "arr_mean=np.mean(arr)\n",
    "arr_std=np.std(arr)\n",
    "print(\"arr:\",arr)\n",
    "print(\"std of arr: \",arr_std)\n",
    "std_dev = np.std(arr, dtype=np.float32)\n",
    "print(\"\\nMore precision with float32\")\n",
    "print(\"std of arr: \",std_dev)\n",
    "std_dev2 = np.std(arr, dtype=np.float64)\n",
    "print(\"\\nMore accuracy with float64\")\n",
    "print(\"std of arr: \",std_dev2)"
   ]
  },
  {
   "cell_type": "code",
   "execution_count": 15,
   "id": "b99b91a8-dcf3-4080-ad77-88d5b8f2ae8b",
   "metadata": {},
   "outputs": [
    {
     "name": "stdout",
     "output_type": "stream",
     "text": [
      "Average house price: 7590.98\n",
      "\n",
      "House prices above average:\n",
      "               Price\n",
      "0        11112.36771\n",
      "1        8384.577435\n",
      "2        9541.738987\n",
      "3       12066.049417\n",
      "4       11319.378999\n",
      "...              ...\n",
      "100062   9364.320352\n",
      "100063  11035.416284\n",
      "100064   8127.917844\n",
      "100065   7685.277322\n",
      "100066   8919.892685\n",
      "\n",
      "[100067 rows x 1 columns]\n",
      "List of high prices has been saved to high_prices.csv.\n"
     ]
    }
   ],
   "source": [
    "#Suppose you have a CSV file named 'house_prices.csv' with price information, and\n",
    "#you want to perform the following operations:\n",
    "\n",
    "import pandas as pd\n",
    "\n",
    "# 1. Read the data from the CSV file into a Pandas DataFrame\n",
    "filename = 'house_prices.csv'\n",
    "df = pd.read_csv(filename)\n",
    "data_array = df.to_numpy()               # Converting DataFrame to NumPy array\n",
    "prices = data_array[:, 1]  # Extract prices from the array\n",
    "\n",
    "# 2. Calculate the average of house prices\n",
    "average_price = np.mean(prices)\n",
    "print(f\"Average house price: {average_price:.2f}\")\n",
    "\n",
    "print(\"\\nHouse prices above average:\")\n",
    "\n",
    "# 3. Identify house prices above the average\n",
    "high_prices = prices[prices > average_price]\n",
    "high_prices_df = pd.DataFrame(high_prices, columns=['Price'])     # Preparing data for saving\n",
    "print(high_prices_df)\n",
    "\n",
    "# 4. Save the list of high prices to a new CSV file\n",
    "high_prices_filename = 'high_prices.csv'\n",
    "high_prices_df.to_csv(high_prices_filename, index=False)\n",
    "\n",
    "print(f\"List of high prices has been saved to {high_prices_filename}.\")\n"
   ]
  }
 ],
 "metadata": {
  "kernelspec": {
   "display_name": "Python 3 (ipykernel)",
   "language": "python",
   "name": "python3"
  },
  "language_info": {
   "codemirror_mode": {
    "name": "ipython",
    "version": 3
   },
   "file_extension": ".py",
   "mimetype": "text/x-python",
   "name": "python",
   "nbconvert_exporter": "python",
   "pygments_lexer": "ipython3",
   "version": "3.12.4"
  }
 },
 "nbformat": 4,
 "nbformat_minor": 5
}
