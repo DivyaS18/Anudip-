{
 "cells": [
  {
   "cell_type": "code",
   "execution_count": 21,
   "id": "62a6678e-cbd4-4950-ba97-584825eaed32",
   "metadata": {},
   "outputs": [
    {
     "name": "stdout",
     "output_type": "stream",
     "text": [
      "Original Order Dataframe: \n",
      "\n",
      "      ord_no  purch_amt    ord_date  customer_id  salesman_id\n",
      "0   70001.0     150.50  2012-10-05         3002       5002.0\n",
      "1       NaN     270.65  2012-09-10         3001       5003.0\n",
      "2   70002.0      65.26         NaN         3001       5001.0\n",
      "3   70004.0     110.50  2012-08-17         3003          NaN\n",
      "4       NaN     948.50  2012-09-10         3002       5002.0\n",
      "5   70005.0    2400.60  2012-07-27         3001       5001.0\n",
      "6       NaN    5760.00  2012-09-10         3001       5001.0\n",
      "7   70010.0    1983.43  2012-10-10         3004          NaN\n",
      "8   70003.0    2480.40  2012-10-10         3003       5003.0\n",
      "9   70012.0     250.45  2012-06-27         3002       5002.0\n",
      "10      NaN      75.29  2012-08-17         3001       5003.0\n",
      "11  70013.0    3045.60  2012-04-25         3001          NaN\n",
      "\n",
      "Missing values of the said dataframe: \n",
      "\n",
      " ord_no         4\n",
      "purch_amt      0\n",
      "ord_date       1\n",
      "customer_id    0\n",
      "salesman_id    3\n",
      "dtype: int64\n"
     ]
    }
   ],
   "source": [
    "#Lab1: Write a Pandas program to detect missing values of a given DataFrame.\n",
    "\n",
    "import pandas as pd\n",
    "import numpy as np\n",
    "df = pd.DataFrame({\n",
    "'ord_no':[70001,np.nan,70002,70004,np.nan,70005,np.nan,70010,70003,70012,np.nan,70013],\n",
    "'purch_amt':[150.5,270.65,65.26,110.5,948.5,2400.6,5760,1983.43,2480.4,250.45,75.29,3045.6],\n",
    "'ord_date':['2012-10-05','2012-09-10',np.nan,'2012-08-17','2012-09-10','2012-07-27','2012-09-10','2012-10-10','2012-10-10','2012-06-27','2012-08-17','2012-04-25'],\n",
    "'customer_id':[3002,3001,3001,3003,3002,3001,3001,3004,3003,3002,3001,3001],\n",
    "'salesman_id':[5002,5003,5001,np.nan,5002,5001,5001,np.nan,5003,5002,5003,np.nan]})\n",
    "\n",
    "missing_values = df.isna().sum()     #identifies the missing values and counts missing value in each column \n",
    "print(\"Original Order Dataframe: \\n\\n\",df)\n",
    "print(\"\\nMissing values of the said dataframe: \\n\\n\",missing_values)"
   ]
  },
  {
   "cell_type": "code",
   "execution_count": 11,
   "id": "fdc7b62d-4df6-4f71-b267-4671b2c1d7e9",
   "metadata": {},
   "outputs": [
    {
     "name": "stdout",
     "output_type": "stream",
     "text": [
      "Original Orders Dataframe: \n",
      "\n",
      "     ord_no  purch_amt    ord_date  customer_id  salesman_id\n",
      "0   70001.0     150.50  2012-10-05         3002       5002.0\n",
      "1       NaN     270.65  2012-09-10         3001       5003.0\n",
      "2   70002.0      65.26         NaN         3001       5001.0\n",
      "3   70004.0     110.50  2012-08-17         3003          NaN\n",
      "4       NaN     948.50  2012-09-10         3002       5002.0\n",
      "5   70005.0    2400.60  2012-07-27         3001       5001.0\n",
      "6       NaN    5760.00  2012-09-10         3001       5001.0\n",
      "7   70010.0    1983.43  2012-10-10         3004          NaN\n",
      "8   70003.0    2480.40  2012-10-10         3003       5003.0\n",
      "9   70012.0     250.45  2012-06-27         3002       5002.0\n",
      "10      NaN      75.29  2012-08-17         3001       5003.0\n",
      "11  70013.0    3045.60  2012-04-25         3001          NaN\n",
      "\n",
      "Drops the rows where at least one element is missing:\n",
      "\n",
      "    ord_no  purch_amt    ord_date  customer_id  salesman_id\n",
      "0  70001.0     150.50  2012-10-05         3002       5002.0\n",
      "5  70005.0    2400.60  2012-07-27         3001       5001.0\n",
      "8  70003.0    2480.40  2012-10-10         3003       5003.0\n",
      "9  70012.0     250.45  2012-06-27         3002       5002.0\n"
     ]
    }
   ],
   "source": [
    "#Lab2: Write a Pandas program to drop the rows where at least one element is missing in a given DataFrame.\n",
    "\n",
    "df = pd.DataFrame({\n",
    "'ord_no':[70001,np.nan,70002,70004,np.nan,70005,np.nan,70010,70003,70012,np.nan,70013],\n",
    "'purch_amt':[150.5,270.65,65.26,110.5,948.5,2400.6,5760,1983.43,2480.4,250.45,75.29,3045.6],\n",
    "'ord_date':['2012-10-05','2012-09-10',np.nan,'2012-08-17','2012-09-10','2012-07-27','2012-09-10','2012-10-10','2012-10-10','2012-06-27','2012-08-17','2012-04-25'],\n",
    "'customer_id':[3002,3001,3001,3003,3002,3001,3001,3004,3003,3002,3001,3001],\n",
    "'salesman_id':[5002,5003,5001,np.nan,5002,5001,5001,np.nan,5003,5002,5003,np.nan]})\n",
    "print(\"Original Orders Dataframe: \\n\")\n",
    "print(df)\n",
    "print(\"\\nDrops the rows where at least one element is missing:\\n\")\n",
    "df_cleaned = df.dropna()        #used to remove/drop missing values\n",
    "print(df_cleaned)"
   ]
  },
  {
   "cell_type": "code",
   "execution_count": 22,
   "id": "7ca7ab6a-7b9c-4670-b9da-d5ab8ff63cd4",
   "metadata": {},
   "outputs": [
    {
     "name": "stdout",
     "output_type": "stream",
     "text": [
      "Original Orders Dataframe: \n",
      "\n",
      "      ord_no  purch_amt    ord_date  customer_id\n",
      "0       NaN        NaN         NaN          NaN\n",
      "1       NaN     270.65  2012-09-10       3001.0\n",
      "2   70002.0      65.26         NaN       3001.0\n",
      "3   70004.0     110.50  2012-08-17       3003.0\n",
      "4       NaN     948.50  2012-09-10       3002.0\n",
      "5   70005.0    2400.60  2012-07-27       3001.0\n",
      "6       NaN    5760.00  2012-09-10       3001.0\n",
      "7   70010.0    1983.43  2012-10-10       3004.0\n",
      "8   70003.0    2480.40  2012-10-10       3003.0\n",
      "9   70012.0     250.45  2012-06-27       3002.0\n",
      "10      NaN      75.29  2012-08-17       3001.0\n",
      "11  70013.0    3045.60  2012-04-25       3001.0\n",
      "\n",
      "Drops the rows where all elements are missing:\n",
      "\n",
      "      ord_no  purch_amt    ord_date  customer_id\n",
      "1       NaN     270.65  2012-09-10       3001.0\n",
      "2   70002.0      65.26         NaN       3001.0\n",
      "3   70004.0     110.50  2012-08-17       3003.0\n",
      "4       NaN     948.50  2012-09-10       3002.0\n",
      "5   70005.0    2400.60  2012-07-27       3001.0\n",
      "6       NaN    5760.00  2012-09-10       3001.0\n",
      "7   70010.0    1983.43  2012-10-10       3004.0\n",
      "8   70003.0    2480.40  2012-10-10       3003.0\n",
      "9   70012.0     250.45  2012-06-27       3002.0\n",
      "10      NaN      75.29  2012-08-17       3001.0\n",
      "11  70013.0    3045.60  2012-04-25       3001.0\n"
     ]
    }
   ],
   "source": [
    "#Lab3: Write a Pandas program to drop the rows where all elements are missing in a given DataFrame.\n",
    "    \n",
    "df = pd.DataFrame({'ord_no':[np.nan,np.nan,70002,70004,np.nan,70005,np.nan,70010,70003,70012,np.nan,70013],\n",
    "'purch_amt':[np.nan,270.65,65.26,110.5,948.5,2400.6,5760,1983.43,2480.4,250.45,75.29,3045.6],\n",
    "'ord_date':[np.nan,'2012-09-10',np.nan,'2012-08-17','2012-09-10','2012-07-27','2012-09-10','2012-10-10','2012-10-10','2012-06-27','2012-08-17','2012-04-25'],\n",
    "'customer_id':[np.nan,3001,3001,3003,3002,3001,3001,3004,3003,3002,3001,3001]})\n",
    "print(\"Original Orders Dataframe: \\n\\n\",df)\n",
    "df_cleaned = df.dropna(how='all')       #removes data if all row values are null\n",
    "print(\"\\nDrops the rows where all elements are missing:\\n\\n\",df_cleaned)\n"
   ]
  },
  {
   "cell_type": "code",
   "execution_count": 20,
   "id": "1f662015-69d5-4ac1-9de7-e99bf7f42336",
   "metadata": {},
   "outputs": [
    {
     "name": "stdout",
     "output_type": "stream",
     "text": [
      "Original Orders Dataframe: \n",
      "\n",
      "      ord_no  purch_amt    ord_date  customer_id\n",
      "0       NaN        NaN         NaN          NaN\n",
      "1       NaN     270.65  2012-09-10       3001.0\n",
      "2   70002.0      65.26         NaN       3001.0\n",
      "3       NaN        NaN         NaN          NaN\n",
      "4       NaN     948.50  2012-09-10       3002.0\n",
      "5   70005.0    2400.60  2012-07-27       3001.0\n",
      "6       NaN    5760.00  2012-09-10       3001.0\n",
      "7   70010.0    1983.43  2012-10-10       3004.0\n",
      "8   70003.0    2480.40  2012-10-10       3003.0\n",
      "9   70012.0     250.45  2012-06-27       3002.0\n",
      "10      NaN      75.29  2012-08-17       3001.0\n",
      "11      NaN        NaN         NaN          NaN\n",
      "\n",
      "Drops the rows where specific columns elements are missing:\n",
      "\n",
      "     ord_no  purch_amt    ord_date  customer_id\n",
      "5  70005.0    2400.60  2012-07-27       3001.0\n",
      "7  70010.0    1983.43  2012-10-10       3004.0\n",
      "8  70003.0    2480.40  2012-10-10       3003.0\n",
      "9  70012.0     250.45  2012-06-27       3002.0\n"
     ]
    }
   ],
   "source": [
    "#Lab4: Write a Pandas program to drop those rows from a given DataFrame in which specific columns have missing values.\n",
    "\n",
    "df = pd.DataFrame({\n",
    "'ord_no':[np.nan,np.nan,70002,np.nan,np.nan,70005,np.nan,70010,70003,70012,np.nan,np.nan],\n",
    "'purch_amt':[np.nan,270.65,65.26,np.nan,948.5,2400.6,5760,1983.43,2480.4,250.45,75.29,np.nan],\n",
    "'ord_date':[np.nan,'2012-09-10',np.nan,np.nan,'2012-09-10','2012-07-27','2012-09-10','2012-10-10','2012-10-10','2012-06-27','2012-08-17',np.nan],\n",
    "'customer_id':[np.nan,3001,3001,np.nan,3002,3001,3001,3004,3003,3002,3001,np.nan]})\n",
    "print(\"Original Orders Dataframe: \\n\\n\",df)\n",
    "df_cleaned = df.dropna(subset=['ord_no', 'purch_amt', 'ord_date'])     #data will be removed only from the specified column\n",
    "print(\"\\nDrops the rows where specific columns elements are missing:\\n\\n\",df_cleaned)"
   ]
  },
  {
   "cell_type": "code",
   "execution_count": 25,
   "id": "cc3d5971-a709-4067-9135-ebf5ddd90f22",
   "metadata": {},
   "outputs": [
    {
     "name": "stdout",
     "output_type": "stream",
     "text": [
      "Original data:\n",
      "\n",
      "       price  square_footage  bedrooms  bathrooms  location\n",
      "0  250000.0          1500.0         3          2  Downtown\n",
      "1  300000.0          2000.0         4          3    Suburb\n",
      "2       NaN          1800.0         3          2  Downtown\n",
      "3  250000.0          1500.0         3          2  Downtown\n",
      "4  400000.0             NaN         5          4    Suburb\n",
      "\n",
      "Data cleaning is complete. The cleaned data has been saved to 'cleaned_real_estate_data.csv'.\n",
      "Displaying the cleaned data:\n",
      "\n",
      "       price  square_footage  bedrooms  bathrooms  location\n",
      "0  250000.0          1500.0         3          2  Downtown\n",
      "1  300000.0          2000.0         4          3    Suburb\n"
     ]
    }
   ],
   "source": [
    "#ChatGPT Exercise\n",
    "#Scenario:Analyzing Real Estate Data\n",
    "#Suppose you have a dummy dataset with real estate property listings. The data contains information about property prices,\n",
    "#square footage, the number of bedrooms and bathrooms, and other details. You want to perform data cleaning like Remove rows\n",
    "#with missing values, Remove duplicate and then save the cleaned data to a CSV file. Create a ChatGPT prompt to generate the code for this scenario.\n",
    "#Based on the code generated, ask ChatGPT to give the conclusion/inference.\n",
    "#Note. You can provide the data to ChatGPT in the form of a list or dictionary or ask it to use sample data.\n",
    "\n",
    "import pandas as pd\n",
    "import numpy as np\n",
    "\n",
    "# Sample data\n",
    "data = {\n",
    "    'price': [250000, 300000, np.nan, 250000, 400000],\n",
    "    'square_footage': [1500, 2000, 1800, 1500, np.nan],\n",
    "    'bedrooms': [3, 4, 3, 3, 5],\n",
    "    'bathrooms': [2, 3, 2, 2, 4],\n",
    "    'location': ['Downtown', 'Suburb', 'Downtown', 'Downtown', 'Suburb']\n",
    "}\n",
    "\n",
    "df = pd.DataFrame(data)\n",
    "df_cleaned = df.dropna()                 #Removing rows with any missing values\n",
    "df_cleaned = df_cleaned.drop_duplicates()        #Removing duplicate rows\n",
    "df_cleaned.to_csv('cleaned_real_estate_data.csv', index=False)\n",
    "print(\"Original data:\\n\\n\",df)\n",
    "print(\"\\nData cleaning is complete. The cleaned data has been saved to 'cleaned_real_estate_data.csv'.\")\n",
    "print(\"Displaying the cleaned data:\\n\\n\",df_cleaned)\n"
   ]
  }
 ],
 "metadata": {
  "kernelspec": {
   "display_name": "Python 3 (ipykernel)",
   "language": "python",
   "name": "python3"
  },
  "language_info": {
   "codemirror_mode": {
    "name": "ipython",
    "version": 3
   },
   "file_extension": ".py",
   "mimetype": "text/x-python",
   "name": "python",
   "nbconvert_exporter": "python",
   "pygments_lexer": "ipython3",
   "version": "3.12.4"
  }
 },
 "nbformat": 4,
 "nbformat_minor": 5
}
