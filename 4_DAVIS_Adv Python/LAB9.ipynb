{
 "cells": [
  {
   "cell_type": "code",
   "execution_count": 13,
   "id": "07a04dbf-fbeb-4261-9a01-e8d82045bd4a",
   "metadata": {},
   "outputs": [
    {
     "name": "stdout",
     "output_type": "stream",
     "text": [
      "Total Sales Amount Region-wise:\n",
      "  region  sale_amount\n",
      "0   East         4650\n",
      "1  North         4570\n",
      "2  South         2950\n",
      "3   West         3310\n",
      "\n",
      "Total Sales Amount Manager-wise:\n",
      "   manager  sale_amount\n",
      "0    Emily         6950\n",
      "1     John         6490\n",
      "2  Michael         2040\n",
      "\n",
      "Total Sales Amount Salesman-wise:\n",
      "  salesman  sale_amount\n",
      "0     Jane         6520\n",
      "1  Michael         3300\n",
      "2    Steve         5660\n"
     ]
    }
   ],
   "source": [
    "#Lab1: Write a Pandas program to create a Pivot table and find the total sale\n",
    "#amount region wise, manager wise, sales man wise.\n",
    "\n",
    "import pandas as pd\n",
    "\n",
    "# Load the data from the CSV file\n",
    "df = pd.read_csv('salesdata.csv')\n",
    "\n",
    "# Create a Pivot table to find total sales amount region-wise\n",
    "region_pivot = pd.pivot_table(df, values='sale_amount', index='region', aggfunc='sum')\n",
    "\n",
    "# Create a Pivot table to find total sales amount manager-wise\n",
    "manager_pivot = pd.pivot_table(df, values='sale_amount', index='manager', aggfunc='sum')\n",
    "\n",
    "# Create a Pivot table to find total sales amount salesman-wise\n",
    "salesman_pivot = pd.pivot_table(df, values='sale_amount', index='salesman', aggfunc='sum')\n",
    "\n",
    "# Print the Pivot tables with all headers included\n",
    "print(\"Total Sales Amount Region-wise:\")\n",
    "print(region_pivot.reset_index())  # Include headers\n",
    "\n",
    "print(\"\\nTotal Sales Amount Manager-wise:\")\n",
    "print(manager_pivot.reset_index())  # Include headers\n",
    "\n",
    "print(\"\\nTotal Sales Amount Salesman-wise:\")\n",
    "print(salesman_pivot.reset_index())  # Include headers\n",
    "\n"
   ]
  },
  {
   "cell_type": "code",
   "execution_count": 14,
   "id": "997e843b-3f9a-43a5-b0bc-295a00e29fc3",
   "metadata": {},
   "outputs": [
    {
     "name": "stdout",
     "output_type": "stream",
     "text": [
      "Total Units Sold Item-wise:\n",
      "              unit\n",
      "item              \n",
      "cellphone      102\n",
      "desk            67\n",
      "home theatre    75\n",
      "television      86\n",
      "video games    105\n"
     ]
    }
   ],
   "source": [
    "#Write a Pandas program to create a Pivot table and find the item wise unit sold.\n",
    "\n",
    "import pandas as pd\n",
    "\n",
    "# Load the data from the CSV file\n",
    "df = pd.read_csv('salesdata.csv')\n",
    "\n",
    "# Create a Pivot table to find the total units sold item-wise, with item as index\n",
    "item_units_pivot = pd.pivot_table(df, values='unit', index='item', aggfunc='sum')\n",
    "\n",
    "# Print the Pivot table with item as the index\n",
    "print(\"Total Units Sold Item-wise:\")\n",
    "print(item_units_pivot)\n",
    "\n"
   ]
  },
  {
   "cell_type": "code",
   "execution_count": 15,
   "id": "f56c37f9-0f0e-4187-8e42-b597c1baa160",
   "metadata": {},
   "outputs": [
    {
     "name": "stdout",
     "output_type": "stream",
     "text": [
      "Region-wise and Item-wise Units Sold:\n",
      "item    cellphone  desk  home theatre  television  video games\n",
      "region                                                        \n",
      "East           17    23            25          18           40\n",
      "North          49    15            10          45           15\n",
      "South          16     9            18          11           23\n",
      "West           20    20            22          12           27\n"
     ]
    }
   ],
   "source": [
    "#Lab3: Write a Pandas program to create a Pivot table and find the region\n",
    "#wise, item wise unit sold.\n",
    "\n",
    "import pandas as pd\n",
    "\n",
    "# Load the data from the CSV file\n",
    "df = pd.read_csv('salesdata.csv')\n",
    "\n",
    "# Create a Pivot table to find the total units sold region-wise and item-wise\n",
    "pivot_table = pd.pivot_table(df, values='unit', index='region', columns='item', aggfunc='sum', fill_value=0)\n",
    "\n",
    "# Print the Pivot table with region and item\n",
    "print(\"Region-wise and Item-wise Units Sold:\")\n",
    "print(pivot_table)\n",
    "   "
   ]
  },
  {
   "cell_type": "code",
   "execution_count": 16,
   "id": "e7e5a1d3-79fa-41ee-8202-da2972164899",
   "metadata": {},
   "outputs": [
    {
     "name": "stdout",
     "output_type": "stream",
     "text": [
      "Manager-wise Sale Count and Mean Sale Amount:\n",
      "         count        mean\n",
      "manager                   \n",
      "Emily       25  278.000000\n",
      "John        28  231.785714\n",
      "Michael      9  226.666667\n"
     ]
    }
   ],
   "source": [
    "#Lab4: Write a Pandas program to create a Pivot table and count the\n",
    "#anager wise sale and mean value of sale amount.\n",
    "\n",
    "import pandas as pd\n",
    "\n",
    "# Load the data from the CSV file\n",
    "df = pd.read_csv('salesdata.csv')\n",
    "\n",
    "# Create a Pivot table to count the number of sales and calculate the mean sale amount manager-wise\n",
    "pivot_table = pd.pivot_table(df, values='sale_amount', index='manager', aggfunc={'sale_amount': ['count', 'mean']})\n",
    "\n",
    "# Print the Pivot table with manager-wise sales count and mean sale amount\n",
    "print(\"Manager-wise Sale Count and Mean Sale Amount:\")\n",
    "print(pivot_table)\n"
   ]
  },
  {
   "cell_type": "code",
   "execution_count": 17,
   "id": "f3ffa77f-a3fa-42a5-b40f-74041740748c",
   "metadata": {},
   "outputs": [
    {
     "name": "stdout",
     "output_type": "stream",
     "text": [
      "Total Sales for Each Product:\n",
      "              sale_amount\n",
      "product                  \n",
      "cellphone             770\n",
      "desk                  150\n",
      "home theatre          750\n",
      "television            330\n",
      "video games           470\n",
      "\n",
      "Total Sales for Each Salesperson:\n",
      "             sale_amount\n",
      "salesperson             \n",
      "Alice               1020\n",
      "Bob                  680\n",
      "Charlie              770\n",
      "\n",
      "Top-Selling Product: cellphone with Sales Amount: 770\n",
      "Top-Selling Salesperson: Alice with Sales Amount: 1020\n",
      "\n",
      "Conclusion:\n",
      "Total Sales for Each Product: This Pivot table shows the sum of sales amounts for each product. This helps in understanding which products generate the most revenue.\n",
      "\n",
      "Total Sales for Each Salesperson: This Pivot table shows the total sales amounts handled by each salesperson. This indicates the performance of each salesperson.\n",
      "\n",
      "Top-Selling Product and Salesperson: The code identifies which product and salesperson have the highest total sales. This information is crucial for recognizing top performers and products, and can guide decisions on product stocking, salesperson incentives, and marketing strategies. \n"
     ]
    }
   ],
   "source": [
    "#Scenario:Analyzing Sales Data with a Pivot Table\n",
    "#Suppose you work for a retail company, and you have a dataset containing sales data.\n",
    "#The data includes information about sales transactions, products, and salespeople. You\n",
    "#want to create a pivot table to summarize sales by product and salesperson like\n",
    "#Calculate the total sales for each product,Calculate the total sales for each\n",
    "#salesperson,Identify the top-selling product and salesperson.\n",
    "\n",
    "import pandas as pd\n",
    "\n",
    "# Sample data for demonstration; replace with your actual data\n",
    "data = {\n",
    "    'product': ['cellphone', 'television', 'cellphone', 'video games', 'television', 'home theatre', 'video games', 'cellphone', 'desk', 'home theatre'],\n",
    "    'salesperson': ['Alice', 'Bob', 'Alice', 'Alice', 'Bob', 'Charlie', 'Charlie', 'Alice', 'Charlie', 'Bob'],\n",
    "    'sale_amount': [200, 150, 300, 250, 180, 400, 220, 270, 150, 350]\n",
    "}\n",
    "\n",
    "# Create DataFrame\n",
    "df = pd.DataFrame(data)\n",
    "\n",
    "# Create a Pivot table to calculate total sales for each product\n",
    "product_sales = pd.pivot_table(df, values='sale_amount', index='product', aggfunc='sum')\n",
    "\n",
    "# Create a Pivot table to calculate total sales for each salesperson\n",
    "salesperson_sales = pd.pivot_table(df, values='sale_amount', index='salesperson', aggfunc='sum')\n",
    "\n",
    "# Identify the top-selling product\n",
    "top_product = product_sales.idxmax()['sale_amount']\n",
    "top_product_sales = product_sales.max()['sale_amount']\n",
    "\n",
    "# Identify the top-selling salesperson\n",
    "top_salesperson = salesperson_sales.idxmax()['sale_amount']\n",
    "top_salesperson_sales = salesperson_sales.max()['sale_amount']\n",
    "\n",
    "# Print the results\n",
    "print(\"Total Sales for Each Product:\")\n",
    "print(product_sales)\n",
    "print(\"\\nTotal Sales for Each Salesperson:\")\n",
    "print(salesperson_sales)\n",
    "print(f\"\\nTop-Selling Product: {top_product} with Sales Amount: {top_product_sales}\")\n",
    "print(f\"Top-Selling Salesperson: {top_salesperson} with Sales Amount: {top_salesperson_sales}\")\n",
    "\n",
    "print('''\\nConclusion:\n",
    "Total Sales for Each Product: This Pivot table shows the sum of sales amounts for each product. This helps in understanding which products generate the most revenue.\n",
    "\n",
    "Total Sales for Each Salesperson: This Pivot table shows the total sales amounts handled by each salesperson. This indicates the performance of each salesperson.\n",
    "\n",
    "Top-Selling Product and Salesperson: The code identifies which product and salesperson have the highest total sales. This information is crucial for recognizing top performers and products, and can guide decisions on product stocking, salesperson incentives, and marketing strategies. ''')"
   ]
  }
 ],
 "metadata": {
  "kernelspec": {
   "display_name": "Python 3 (ipykernel)",
   "language": "python",
   "name": "python3"
  },
  "language_info": {
   "codemirror_mode": {
    "name": "ipython",
    "version": 3
   },
   "file_extension": ".py",
   "mimetype": "text/x-python",
   "name": "python",
   "nbconvert_exporter": "python",
   "pygments_lexer": "ipython3",
   "version": "3.12.4"
  }
 },
 "nbformat": 4,
 "nbformat_minor": 5
}
