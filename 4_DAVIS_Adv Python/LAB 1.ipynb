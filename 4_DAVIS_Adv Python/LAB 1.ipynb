{
 "cells": [
  {
   "cell_type": "code",
   "execution_count": 2,
   "id": "de03a70a-06bc-4751-ab8f-971163f00c6f",
   "metadata": {},
   "outputs": [
    {
     "name": "stdout",
     "output_type": "stream",
     "text": [
      "Numpy array [1 2 3 4 5]\n"
     ]
    }
   ],
   "source": [
    "#LAB2:Working with arrays using Jupyter\n",
    "#1) Convert the list into numpy array then display the array\n",
    "#input: my_list=[1,2,3,4,5]\n",
    "#output:Numpy array:[1 2 3 4 5]\n",
    "\n",
    "import numpy as np\n",
    "\n",
    "my_list=[1,2,3,4,5]\n",
    "arr=np.array(my_list)\n",
    "print(\"Numpy array\",arr)\n"
   ]
  },
  {
   "cell_type": "code",
   "execution_count": 3,
   "id": "b3af3d97-f04c-45a1-984d-f515ebf1a9a3",
   "metadata": {},
   "outputs": [
    {
     "name": "stdout",
     "output_type": "stream",
     "text": [
      "Numpy array [1 2 3 4 5]\n",
      "First Element 1\n",
      "Last Element 5\n",
      "Array after doubling each element [ 2  4  6  8 10]\n"
     ]
    }
   ],
   "source": [
    "#2)convert the below list into a numpy array then display the array, then display the first and last index and \n",
    "#then multiply each element by 2 and display the result\n",
    "#input:my_list=[1,2,3,4,5]\n",
    "#output: First element: 1\n",
    "#Last element: 5\n",
    "#Array after doubling each element:\n",
    "#[2 4 6 8 10]\n",
    "\n",
    "my_list=[1,2,3,4,5]\n",
    "arr=np.array(my_list)\n",
    "print(\"Numpy array:\",arr)\n",
    "print(\"First Element:\",arr[0])\n",
    "print(\"Last Element:\",arr[4])\n",
    "print(\"Array after doubling each element:\",arr*2)"
   ]
  },
  {
   "cell_type": "code",
   "execution_count": 8,
   "id": "82c76e50-199c-4f29-8264-48ed181c2e9a",
   "metadata": {},
   "outputs": [
    {
     "name": "stdout",
     "output_type": "stream",
     "text": [
      "An array of 10 zeros: \n",
      " [0. 0. 0. 0. 0. 0. 0. 0. 0. 0.]\n",
      "An array of 10 ones:\n",
      " [1. 1. 1. 1. 1. 1. 1. 1. 1. 1.]\n",
      "An array of 10 fives:\n",
      " [5. 5. 5. 5. 5. 5. 5. 5. 5. 5.]\n"
     ]
    }
   ],
   "source": [
    "#LAB3:Working with Numpy using Jupyter\n",
    "#1)Write a numpy program to create an array of 10 zeros, 10 ones and 10 fives.\n",
    "#Sample Output:\n",
    "#An array of 10 zeros:[0. 0. 0. 0. 0. 0. 0. 0. 0. 0.]\n",
    "#An array of 10 ones: [1. 1. 1. 1. 1. 1. 1. 1. 1. 1.]\n",
    "#An array of 10 fives:[5. 5. 5. 5. 5. 5. 5. 5. 5. 5.]\n",
    "\n",
    "a=np.zeros(10)\n",
    "print(\"An array of 10 zeros: \\n\",a)\n",
    "b=np.ones(10)\n",
    "print(\"An array of 10 ones:\\n\",b)\n",
    "c=np.ones(10)*5\n",
    "print(\"An array of 10 fives:\\n\",c)\n"
   ]
  },
  {
   "cell_type": "code",
   "execution_count": 18,
   "id": "02f5370b-82dc-4d94-b576-6aaf1f6941c6",
   "metadata": {},
   "outputs": [
    {
     "name": "stdout",
     "output_type": "stream",
     "text": [
      "[[7 8 3]\n",
      " [2 3 3]\n",
      " [9 4 7]]\n"
     ]
    }
   ],
   "source": [
    "#2)Write a Numpy program to create a 3*3 matrix with values ranging from 2 to 10.\n",
    "\n",
    "rand= np.random.randint(2,10,9)       #using random numbers\n",
    "arr=rand.reshape(3,3)\n",
    "print(arr)\n"
   ]
  },
  {
   "cell_type": "code",
   "execution_count": 16,
   "id": "d53a1d98-97a2-4bc1-a375-89fa2903d939",
   "metadata": {},
   "outputs": [
    {
     "name": "stdout",
     "output_type": "stream",
     "text": [
      "[[ 2  3  4]\n",
      " [ 5  6  7]\n",
      " [ 8  9 10]]\n"
     ]
    }
   ],
   "source": [
    "arr2=[2,3,4,5,6,7,8,9,10]         #or by providing numbers as input\n",
    "arr=np.array(arr2)\n",
    "arr=arr.reshape(3,3)\n",
    "print(arr)"
   ]
  }
 ],
 "metadata": {
  "kernelspec": {
   "display_name": "Python 3 (ipykernel)",
   "language": "python",
   "name": "python3"
  },
  "language_info": {
   "codemirror_mode": {
    "name": "ipython",
    "version": 3
   },
   "file_extension": ".py",
   "mimetype": "text/x-python",
   "name": "python",
   "nbconvert_exporter": "python",
   "pygments_lexer": "ipython3",
   "version": "3.12.4"
  }
 },
 "nbformat": 4,
 "nbformat_minor": 5
}
